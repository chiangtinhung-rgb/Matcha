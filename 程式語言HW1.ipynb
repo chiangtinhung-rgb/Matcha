{
  "nbformat": 4,
  "nbformat_minor": 0,
  "metadata": {
    "colab": {
      "provenance": [],
      "authorship_tag": "ABX9TyMTWs6i9+b1rb1mYrEPNifl",
      "include_colab_link": true
    },
    "kernelspec": {
      "name": "python3",
      "display_name": "Python 3"
    },
    "language_info": {
      "name": "python"
    }
  },
  "cells": [
    {
      "cell_type": "markdown",
      "metadata": {
        "id": "view-in-github",
        "colab_type": "text"
      },
      "source": [
        "<a href=\"https://colab.research.google.com/github/chiangtinhung-rgb/Matcha/blob/main/%E7%A8%8B%E5%BC%8F%E8%AA%9E%E8%A8%80HW1.ipynb\" target=\"_parent\"><img src=\"https://colab.research.google.com/assets/colab-badge.svg\" alt=\"Open In Colab\"/></a>"
      ]
    },
    {
      "cell_type": "markdown",
      "source": [
        "***日常支出速算與分攤（作業一）***\n",
        "\n",
        "目標：從 Sheet 讀「消費紀錄」→ 計總額/分類小計/AA分攤(2人) → 寫回 Sheet Summary 分頁。\n",
        "\n",
        "AI 點子：請模型總結本日消費並給予預算建議（例如「餐飲支出過多」）。\n",
        "\n",
        "Sheet 欄位：date, time, item, amount, category, money, pay_way, payer_name, location, notes\n",
        "\n",
        "GoogleSheet: https://docs.google.com/spreadsheets/d/1o4BY-VlRvKt0VFxY0pLuPaQKsLoRki8W9fDMaYgxGbI/edit?gid=0#gid=0"
      ],
      "metadata": {
        "id": "t6m7Ff5LfkcJ"
      }
    },
    {
      "cell_type": "code",
      "execution_count": 111,
      "metadata": {
        "id": "hnSEAvySXVws"
      },
      "outputs": [],
      "source": [
        "from google.colab import auth\n",
        "auth.authenticate_user()\n",
        "import gspread\n",
        "from google.auth import default\n",
        "import datetime\n",
        "from types import new_class\n",
        "creds, _ = default()\n",
        "gc = gspread.authorize(creds)"
      ]
    },
    {
      "cell_type": "code",
      "source": [
        "import pandas as pd\n",
        "gsheets = gc.open_by_url('https://docs.google.com/spreadsheets/d/1o4BY-VlRvKt0VFxY0pLuPaQKsLoRki8W9fDMaYgxGbI/edit?gid=0#gid=0')"
      ],
      "metadata": {
        "id": "Tsll8lCjhREd"
      },
      "execution_count": 112,
      "outputs": []
    },
    {
      "cell_type": "code",
      "source": [
        "\n",
        "\n",
        "# 讓使用者輸入資料\n",
        "date_str = input(\"請輸入日期 (格式：YYYY-MM-DD): \")\n",
        "# 檢查日期格式是否正確\n",
        "\n",
        "\n",
        "datetime.datetime.strptime(date_str, '%Y-%m-%d')\n",
        "\n",
        "time_str = input(\"請輸入時間 (格式：HH:MM): \")\n",
        "# 檢查時間格式是否正確\n",
        "datetime.datetime.strptime(time_str, '%H:%M')\n",
        "\n",
        "item = input(\"請輸入品項:\")\n",
        "amount = input(\"請輸入數量:\")\n",
        "category = input(\"請輸入分類 (例如：'餐飲', '交通', '娛樂', '生活用品', '學習', '收入', '其他'):\")\n",
        "money = float(input(\"請輸入金額:\"))\n",
        "pay_way = input(\"請輸入支付方式  (例如：'現金', '信用卡', '電子支付', '轉帳', '其他'):\")\n",
        "payer_name = input(\"請輸入付款人名字: \")\n",
        "location = input(\"請輸入購買地點: \")\n",
        "notes = input(\"請輸入備註/交易描述 (例如：朋友生日禮物、團購運費): \")"
      ],
      "metadata": {
        "colab": {
          "base_uri": "https://localhost:8080/"
        },
        "outputId": "7cfb6d37-2a20-46cd-909c-a7e057e9c167",
        "id": "pdelkAdJ5MdH"
      },
      "execution_count": 113,
      "outputs": [
        {
          "name": "stdout",
          "output_type": "stream",
          "text": [
            "請輸入日期 (格式：YYYY-MM-DD): 2025-09-29\n",
            "請輸入時間 (格式：HH:MM): 18:00\n",
            "請輸入品項:鹹酥雞\n",
            "請輸入數量:2\n",
            "請輸入分類 (例如：'餐飲', '交通', '娛樂', '生活用品', '學習', '收入', '其他'):餐飲\n",
            "請輸入金額:120\n",
            "請輸入支付方式  (例如：'現金', '信用卡', '電子支付', '轉帳', '其他'):現金\n",
            "請輸入付款人名字: MATCHA\n",
            "請輸入購買地點: 師園鹹酥雞\n",
            "請輸入備註/交易描述 (例如：朋友生日禮物、團購運費): \n"
          ]
        }
      ]
    },
    {
      "cell_type": "code",
      "source": [
        "# 從 gsheets 的 All-whiteboard-device 載入 sheets\n",
        "sheets = gsheets.worksheet('工作表1').get_all_values()\n",
        "# 將 sheets1 資料載入 pd 的 DataFrame 進行分析\n",
        "df = pd.DataFrame(sheets[1:], columns=sheets[0])\n",
        "# 取得最前面的5筆資料\n",
        "df.head()"
      ],
      "metadata": {
        "colab": {
          "base_uri": "https://localhost:8080/",
          "height": 53
        },
        "id": "rJJJ1En2kL6p",
        "outputId": "1973f872-cf74-44a9-d217-cb4aecaf4bf9"
      },
      "execution_count": 114,
      "outputs": [
        {
          "output_type": "execute_result",
          "data": {
            "text/plain": [
              "Empty DataFrame\n",
              "Columns: [日期, 時間, 品項, 數量, 金額, 分類, 支付方式, 付款人, 地點, 備註]\n",
              "Index: []"
            ],
            "text/html": [
              "\n",
              "  <div id=\"df-7f8facf3-a8b8-4ed3-abf3-7e8feee46869\" class=\"colab-df-container\">\n",
              "    <div>\n",
              "<style scoped>\n",
              "    .dataframe tbody tr th:only-of-type {\n",
              "        vertical-align: middle;\n",
              "    }\n",
              "\n",
              "    .dataframe tbody tr th {\n",
              "        vertical-align: top;\n",
              "    }\n",
              "\n",
              "    .dataframe thead th {\n",
              "        text-align: right;\n",
              "    }\n",
              "</style>\n",
              "<table border=\"1\" class=\"dataframe\">\n",
              "  <thead>\n",
              "    <tr style=\"text-align: right;\">\n",
              "      <th></th>\n",
              "      <th>日期</th>\n",
              "      <th>時間</th>\n",
              "      <th>品項</th>\n",
              "      <th>數量</th>\n",
              "      <th>金額</th>\n",
              "      <th>分類</th>\n",
              "      <th>支付方式</th>\n",
              "      <th>付款人</th>\n",
              "      <th>地點</th>\n",
              "      <th>備註</th>\n",
              "    </tr>\n",
              "  </thead>\n",
              "  <tbody>\n",
              "  </tbody>\n",
              "</table>\n",
              "</div>\n",
              "    <div class=\"colab-df-buttons\">\n",
              "\n",
              "  <div class=\"colab-df-container\">\n",
              "    <button class=\"colab-df-convert\" onclick=\"convertToInteractive('df-7f8facf3-a8b8-4ed3-abf3-7e8feee46869')\"\n",
              "            title=\"Convert this dataframe to an interactive table.\"\n",
              "            style=\"display:none;\">\n",
              "\n",
              "  <svg xmlns=\"http://www.w3.org/2000/svg\" height=\"24px\" viewBox=\"0 -960 960 960\">\n",
              "    <path d=\"M120-120v-720h720v720H120Zm60-500h600v-160H180v160Zm220 220h160v-160H400v160Zm0 220h160v-160H400v160ZM180-400h160v-160H180v160Zm440 0h160v-160H620v160ZM180-180h160v-160H180v160Zm440 0h160v-160H620v160Z\"/>\n",
              "  </svg>\n",
              "    </button>\n",
              "\n",
              "  <style>\n",
              "    .colab-df-container {\n",
              "      display:flex;\n",
              "      gap: 12px;\n",
              "    }\n",
              "\n",
              "    .colab-df-convert {\n",
              "      background-color: #E8F0FE;\n",
              "      border: none;\n",
              "      border-radius: 50%;\n",
              "      cursor: pointer;\n",
              "      display: none;\n",
              "      fill: #1967D2;\n",
              "      height: 32px;\n",
              "      padding: 0 0 0 0;\n",
              "      width: 32px;\n",
              "    }\n",
              "\n",
              "    .colab-df-convert:hover {\n",
              "      background-color: #E2EBFA;\n",
              "      box-shadow: 0px 1px 2px rgba(60, 64, 67, 0.3), 0px 1px 3px 1px rgba(60, 64, 67, 0.15);\n",
              "      fill: #174EA6;\n",
              "    }\n",
              "\n",
              "    .colab-df-buttons div {\n",
              "      margin-bottom: 4px;\n",
              "    }\n",
              "\n",
              "    [theme=dark] .colab-df-convert {\n",
              "      background-color: #3B4455;\n",
              "      fill: #D2E3FC;\n",
              "    }\n",
              "\n",
              "    [theme=dark] .colab-df-convert:hover {\n",
              "      background-color: #434B5C;\n",
              "      box-shadow: 0px 1px 3px 1px rgba(0, 0, 0, 0.15);\n",
              "      filter: drop-shadow(0px 1px 2px rgba(0, 0, 0, 0.3));\n",
              "      fill: #FFFFFF;\n",
              "    }\n",
              "  </style>\n",
              "\n",
              "    <script>\n",
              "      const buttonEl =\n",
              "        document.querySelector('#df-7f8facf3-a8b8-4ed3-abf3-7e8feee46869 button.colab-df-convert');\n",
              "      buttonEl.style.display =\n",
              "        google.colab.kernel.accessAllowed ? 'block' : 'none';\n",
              "\n",
              "      async function convertToInteractive(key) {\n",
              "        const element = document.querySelector('#df-7f8facf3-a8b8-4ed3-abf3-7e8feee46869');\n",
              "        const dataTable =\n",
              "          await google.colab.kernel.invokeFunction('convertToInteractive',\n",
              "                                                    [key], {});\n",
              "        if (!dataTable) return;\n",
              "\n",
              "        const docLinkHtml = 'Like what you see? Visit the ' +\n",
              "          '<a target=\"_blank\" href=https://colab.research.google.com/notebooks/data_table.ipynb>data table notebook</a>'\n",
              "          + ' to learn more about interactive tables.';\n",
              "        element.innerHTML = '';\n",
              "        dataTable['output_type'] = 'display_data';\n",
              "        await google.colab.output.renderOutput(dataTable, element);\n",
              "        const docLink = document.createElement('div');\n",
              "        docLink.innerHTML = docLinkHtml;\n",
              "        element.appendChild(docLink);\n",
              "      }\n",
              "    </script>\n",
              "  </div>\n",
              "\n",
              "\n",
              "    </div>\n",
              "  </div>\n"
            ],
            "application/vnd.google.colaboratory.intrinsic+json": {
              "type": "dataframe",
              "variable_name": "df",
              "repr_error": "Out of range float values are not JSON compliant: nan"
            }
          },
          "metadata": {},
          "execution_count": 114
        }
      ]
    },
    {
      "cell_type": "code",
      "source": [
        "print(date_str, time_str, item, amount, category, money, pay_way, payer_name, location, notes)"
      ],
      "metadata": {
        "colab": {
          "base_uri": "https://localhost:8080/"
        },
        "id": "Py1usArH5iiH",
        "outputId": "5896e560-27fc-4d59-9b7c-a7111623de23"
      },
      "execution_count": 115,
      "outputs": [
        {
          "output_type": "stream",
          "name": "stdout",
          "text": [
            "2025-09-29 18:00 鹹酥雞 2 餐飲 120.0 現金 MATCHA 師園鹹酥雞 \n"
          ]
        }
      ]
    },
    {
      "cell_type": "code",
      "source": [
        "date_str"
      ],
      "metadata": {
        "colab": {
          "base_uri": "https://localhost:8080/",
          "height": 36
        },
        "id": "SJiLbZkJl3K6",
        "outputId": "9c6ec9f4-455a-443a-ec10-bac2555f9e56"
      },
      "execution_count": 116,
      "outputs": [
        {
          "output_type": "execute_result",
          "data": {
            "text/plain": [
              "'2025-09-29'"
            ],
            "application/vnd.google.colaboratory.intrinsic+json": {
              "type": "string"
            }
          },
          "metadata": {},
          "execution_count": 116
        }
      ]
    },
    {
      "cell_type": "code",
      "source": [
        "time_str\n"
      ],
      "metadata": {
        "colab": {
          "base_uri": "https://localhost:8080/",
          "height": 36
        },
        "id": "2AbrWUL7l7j9",
        "outputId": "ece1640d-ecac-4741-fe52-b1bbf5635d7f"
      },
      "execution_count": 117,
      "outputs": [
        {
          "output_type": "execute_result",
          "data": {
            "text/plain": [
              "'18:00'"
            ],
            "application/vnd.google.colaboratory.intrinsic+json": {
              "type": "string"
            }
          },
          "metadata": {},
          "execution_count": 117
        }
      ]
    },
    {
      "cell_type": "code",
      "source": [
        "item"
      ],
      "metadata": {
        "colab": {
          "base_uri": "https://localhost:8080/",
          "height": 36
        },
        "id": "IouYt-nNmJYZ",
        "outputId": "49c14173-d042-4e4a-a899-8608c3f1c530"
      },
      "execution_count": 118,
      "outputs": [
        {
          "output_type": "execute_result",
          "data": {
            "text/plain": [
              "'鹹酥雞'"
            ],
            "application/vnd.google.colaboratory.intrinsic+json": {
              "type": "string"
            }
          },
          "metadata": {},
          "execution_count": 118
        }
      ]
    },
    {
      "cell_type": "code",
      "source": [
        "amount"
      ],
      "metadata": {
        "colab": {
          "base_uri": "https://localhost:8080/",
          "height": 36
        },
        "id": "G_6vBsFSmLoc",
        "outputId": "08c36beb-dbaf-4a0e-aff5-b023156ae19c"
      },
      "execution_count": 119,
      "outputs": [
        {
          "output_type": "execute_result",
          "data": {
            "text/plain": [
              "'2'"
            ],
            "application/vnd.google.colaboratory.intrinsic+json": {
              "type": "string"
            }
          },
          "metadata": {},
          "execution_count": 119
        }
      ]
    },
    {
      "cell_type": "code",
      "source": [
        "category"
      ],
      "metadata": {
        "colab": {
          "base_uri": "https://localhost:8080/",
          "height": 36
        },
        "id": "PPQ8UwliBb-n",
        "outputId": "79d91e4d-b455-47b3-e049-e793b56fd7eb"
      },
      "execution_count": 120,
      "outputs": [
        {
          "output_type": "execute_result",
          "data": {
            "text/plain": [
              "'餐飲'"
            ],
            "application/vnd.google.colaboratory.intrinsic+json": {
              "type": "string"
            }
          },
          "metadata": {},
          "execution_count": 120
        }
      ]
    },
    {
      "cell_type": "code",
      "source": [
        "money"
      ],
      "metadata": {
        "colab": {
          "base_uri": "https://localhost:8080/"
        },
        "id": "3WNOro_iA82Q",
        "outputId": "d1a2e72c-4ed2-4027-8289-f025af7ab74f"
      },
      "execution_count": 121,
      "outputs": [
        {
          "output_type": "execute_result",
          "data": {
            "text/plain": [
              "120.0"
            ]
          },
          "metadata": {},
          "execution_count": 121
        }
      ]
    },
    {
      "cell_type": "code",
      "source": [
        "pay_way"
      ],
      "metadata": {
        "id": "Rzk9niuh5RoF",
        "colab": {
          "base_uri": "https://localhost:8080/",
          "height": 36
        },
        "outputId": "3871fa5e-95d2-45b3-9174-949292315ace"
      },
      "execution_count": 122,
      "outputs": [
        {
          "output_type": "execute_result",
          "data": {
            "text/plain": [
              "'現金'"
            ],
            "application/vnd.google.colaboratory.intrinsic+json": {
              "type": "string"
            }
          },
          "metadata": {},
          "execution_count": 122
        }
      ]
    },
    {
      "cell_type": "code",
      "source": [
        "payer_name"
      ],
      "metadata": {
        "colab": {
          "base_uri": "https://localhost:8080/",
          "height": 36
        },
        "id": "qbuAkzvRA6Ni",
        "outputId": "4c8b5214-f6a0-49f0-b09f-94a04c64d621"
      },
      "execution_count": 123,
      "outputs": [
        {
          "output_type": "execute_result",
          "data": {
            "text/plain": [
              "'MATCHA'"
            ],
            "application/vnd.google.colaboratory.intrinsic+json": {
              "type": "string"
            }
          },
          "metadata": {},
          "execution_count": 123
        }
      ]
    },
    {
      "cell_type": "code",
      "source": [
        "location"
      ],
      "metadata": {
        "colab": {
          "base_uri": "https://localhost:8080/",
          "height": 36
        },
        "id": "79a0TO1IA6Fs",
        "outputId": "0ad25224-ce2b-419c-e2f7-aba3f2be4ee3"
      },
      "execution_count": 124,
      "outputs": [
        {
          "output_type": "execute_result",
          "data": {
            "text/plain": [
              "'師園鹹酥雞'"
            ],
            "application/vnd.google.colaboratory.intrinsic+json": {
              "type": "string"
            }
          },
          "metadata": {},
          "execution_count": 124
        }
      ]
    },
    {
      "cell_type": "code",
      "source": [
        "notes"
      ],
      "metadata": {
        "colab": {
          "base_uri": "https://localhost:8080/",
          "height": 36
        },
        "id": "hFRoYjp8A55k",
        "outputId": "ab4a2f22-2114-4a36-9ec2-0c0ca297a47a"
      },
      "execution_count": 125,
      "outputs": [
        {
          "output_type": "execute_result",
          "data": {
            "text/plain": [
              "''"
            ],
            "application/vnd.google.colaboratory.intrinsic+json": {
              "type": "string"
            }
          },
          "metadata": {},
          "execution_count": 125
        }
      ]
    },
    {
      "cell_type": "code",
      "source": [
        "# 定義您希望 DataFrame 擁有的唯一欄位 (Column Index)\n",
        "UNIQUE_COLUMNS = ['日期', '時間', '品項', '數量', '金額', '分類', '支付方式', '付款人', '地點', '備註']\n",
        "\n",
        "# 創建一個空的 DataFrame，並強制使用唯一的欄位名稱\n",
        "df = pd.DataFrame(columns=UNIQUE_COLUMNS)\n",
        "\n",
        "# 創建包含新資料的 DataFrame\n",
        "data = pd.DataFrame([{\n",
        "    '日期': date_str,\n",
        "    '時間': time_str,\n",
        "    '品項': item,\n",
        "    '數量': amount,\n",
        "    '金額': money,\n",
        "    '分類': category,\n",
        "    '支付方式': pay_way,\n",
        "    '付款人': payer_name,\n",
        "    '地點': location,\n",
        "    '備註': notes\n",
        "}])\n",
        "\n",
        "# 現在合併就不會有問題，因為 df 的欄位是唯一的\n",
        "df = pd.concat([df, data], ignore_index=True)\n"
      ],
      "metadata": {
        "id": "HRCmXhoOnT7m",
        "colab": {
          "base_uri": "https://localhost:8080/"
        },
        "outputId": "e6983a5a-0139-4ccc-8f27-4f449a49e627"
      },
      "execution_count": 126,
      "outputs": [
        {
          "output_type": "stream",
          "name": "stderr",
          "text": [
            "/tmp/ipython-input-3183710199.py:22: FutureWarning:\n",
            "\n",
            "The behavior of DataFrame concatenation with empty or all-NA entries is deprecated. In a future version, this will no longer exclude empty or all-NA columns when determining the result dtypes. To retain the old behavior, exclude the relevant entries before the concat operation.\n",
            "\n"
          ]
        }
      ]
    },
    {
      "cell_type": "code",
      "source": [
        "df"
      ],
      "metadata": {
        "id": "hGxJM5kLm-vf",
        "colab": {
          "base_uri": "https://localhost:8080/",
          "height": 89
        },
        "outputId": "26ab105f-77cd-49aa-eb8f-e3db4d7021eb"
      },
      "execution_count": 127,
      "outputs": [
        {
          "output_type": "execute_result",
          "data": {
            "text/plain": [
              "           日期     時間   品項 數量     金額  分類 支付方式     付款人     地點 備註\n",
              "0  2025-09-29  18:00  鹹酥雞  2  120.0  餐飲   現金  MATCHA  師園鹹酥雞   "
            ],
            "text/html": [
              "\n",
              "  <div id=\"df-77f4c3c1-d9d2-43c8-b9cf-92c6555673a8\" class=\"colab-df-container\">\n",
              "    <div>\n",
              "<style scoped>\n",
              "    .dataframe tbody tr th:only-of-type {\n",
              "        vertical-align: middle;\n",
              "    }\n",
              "\n",
              "    .dataframe tbody tr th {\n",
              "        vertical-align: top;\n",
              "    }\n",
              "\n",
              "    .dataframe thead th {\n",
              "        text-align: right;\n",
              "    }\n",
              "</style>\n",
              "<table border=\"1\" class=\"dataframe\">\n",
              "  <thead>\n",
              "    <tr style=\"text-align: right;\">\n",
              "      <th></th>\n",
              "      <th>日期</th>\n",
              "      <th>時間</th>\n",
              "      <th>品項</th>\n",
              "      <th>數量</th>\n",
              "      <th>金額</th>\n",
              "      <th>分類</th>\n",
              "      <th>支付方式</th>\n",
              "      <th>付款人</th>\n",
              "      <th>地點</th>\n",
              "      <th>備註</th>\n",
              "    </tr>\n",
              "  </thead>\n",
              "  <tbody>\n",
              "    <tr>\n",
              "      <th>0</th>\n",
              "      <td>2025-09-29</td>\n",
              "      <td>18:00</td>\n",
              "      <td>鹹酥雞</td>\n",
              "      <td>2</td>\n",
              "      <td>120.0</td>\n",
              "      <td>餐飲</td>\n",
              "      <td>現金</td>\n",
              "      <td>MATCHA</td>\n",
              "      <td>師園鹹酥雞</td>\n",
              "      <td></td>\n",
              "    </tr>\n",
              "  </tbody>\n",
              "</table>\n",
              "</div>\n",
              "    <div class=\"colab-df-buttons\">\n",
              "\n",
              "  <div class=\"colab-df-container\">\n",
              "    <button class=\"colab-df-convert\" onclick=\"convertToInteractive('df-77f4c3c1-d9d2-43c8-b9cf-92c6555673a8')\"\n",
              "            title=\"Convert this dataframe to an interactive table.\"\n",
              "            style=\"display:none;\">\n",
              "\n",
              "  <svg xmlns=\"http://www.w3.org/2000/svg\" height=\"24px\" viewBox=\"0 -960 960 960\">\n",
              "    <path d=\"M120-120v-720h720v720H120Zm60-500h600v-160H180v160Zm220 220h160v-160H400v160Zm0 220h160v-160H400v160ZM180-400h160v-160H180v160Zm440 0h160v-160H620v160ZM180-180h160v-160H180v160Zm440 0h160v-160H620v160Z\"/>\n",
              "  </svg>\n",
              "    </button>\n",
              "\n",
              "  <style>\n",
              "    .colab-df-container {\n",
              "      display:flex;\n",
              "      gap: 12px;\n",
              "    }\n",
              "\n",
              "    .colab-df-convert {\n",
              "      background-color: #E8F0FE;\n",
              "      border: none;\n",
              "      border-radius: 50%;\n",
              "      cursor: pointer;\n",
              "      display: none;\n",
              "      fill: #1967D2;\n",
              "      height: 32px;\n",
              "      padding: 0 0 0 0;\n",
              "      width: 32px;\n",
              "    }\n",
              "\n",
              "    .colab-df-convert:hover {\n",
              "      background-color: #E2EBFA;\n",
              "      box-shadow: 0px 1px 2px rgba(60, 64, 67, 0.3), 0px 1px 3px 1px rgba(60, 64, 67, 0.15);\n",
              "      fill: #174EA6;\n",
              "    }\n",
              "\n",
              "    .colab-df-buttons div {\n",
              "      margin-bottom: 4px;\n",
              "    }\n",
              "\n",
              "    [theme=dark] .colab-df-convert {\n",
              "      background-color: #3B4455;\n",
              "      fill: #D2E3FC;\n",
              "    }\n",
              "\n",
              "    [theme=dark] .colab-df-convert:hover {\n",
              "      background-color: #434B5C;\n",
              "      box-shadow: 0px 1px 3px 1px rgba(0, 0, 0, 0.15);\n",
              "      filter: drop-shadow(0px 1px 2px rgba(0, 0, 0, 0.3));\n",
              "      fill: #FFFFFF;\n",
              "    }\n",
              "  </style>\n",
              "\n",
              "    <script>\n",
              "      const buttonEl =\n",
              "        document.querySelector('#df-77f4c3c1-d9d2-43c8-b9cf-92c6555673a8 button.colab-df-convert');\n",
              "      buttonEl.style.display =\n",
              "        google.colab.kernel.accessAllowed ? 'block' : 'none';\n",
              "\n",
              "      async function convertToInteractive(key) {\n",
              "        const element = document.querySelector('#df-77f4c3c1-d9d2-43c8-b9cf-92c6555673a8');\n",
              "        const dataTable =\n",
              "          await google.colab.kernel.invokeFunction('convertToInteractive',\n",
              "                                                    [key], {});\n",
              "        if (!dataTable) return;\n",
              "\n",
              "        const docLinkHtml = 'Like what you see? Visit the ' +\n",
              "          '<a target=\"_blank\" href=https://colab.research.google.com/notebooks/data_table.ipynb>data table notebook</a>'\n",
              "          + ' to learn more about interactive tables.';\n",
              "        element.innerHTML = '';\n",
              "        dataTable['output_type'] = 'display_data';\n",
              "        await google.colab.output.renderOutput(dataTable, element);\n",
              "        const docLink = document.createElement('div');\n",
              "        docLink.innerHTML = docLinkHtml;\n",
              "        element.appendChild(docLink);\n",
              "      }\n",
              "    </script>\n",
              "  </div>\n",
              "\n",
              "\n",
              "  <div id=\"id_620b8033-293e-40ef-afc8-30bf60197c59\">\n",
              "    <style>\n",
              "      .colab-df-generate {\n",
              "        background-color: #E8F0FE;\n",
              "        border: none;\n",
              "        border-radius: 50%;\n",
              "        cursor: pointer;\n",
              "        display: none;\n",
              "        fill: #1967D2;\n",
              "        height: 32px;\n",
              "        padding: 0 0 0 0;\n",
              "        width: 32px;\n",
              "      }\n",
              "\n",
              "      .colab-df-generate:hover {\n",
              "        background-color: #E2EBFA;\n",
              "        box-shadow: 0px 1px 2px rgba(60, 64, 67, 0.3), 0px 1px 3px 1px rgba(60, 64, 67, 0.15);\n",
              "        fill: #174EA6;\n",
              "      }\n",
              "\n",
              "      [theme=dark] .colab-df-generate {\n",
              "        background-color: #3B4455;\n",
              "        fill: #D2E3FC;\n",
              "      }\n",
              "\n",
              "      [theme=dark] .colab-df-generate:hover {\n",
              "        background-color: #434B5C;\n",
              "        box-shadow: 0px 1px 3px 1px rgba(0, 0, 0, 0.15);\n",
              "        filter: drop-shadow(0px 1px 2px rgba(0, 0, 0, 0.3));\n",
              "        fill: #FFFFFF;\n",
              "      }\n",
              "    </style>\n",
              "    <button class=\"colab-df-generate\" onclick=\"generateWithVariable('df')\"\n",
              "            title=\"Generate code using this dataframe.\"\n",
              "            style=\"display:none;\">\n",
              "\n",
              "  <svg xmlns=\"http://www.w3.org/2000/svg\" height=\"24px\"viewBox=\"0 0 24 24\"\n",
              "       width=\"24px\">\n",
              "    <path d=\"M7,19H8.4L18.45,9,17,7.55,7,17.6ZM5,21V16.75L18.45,3.32a2,2,0,0,1,2.83,0l1.4,1.43a1.91,1.91,0,0,1,.58,1.4,1.91,1.91,0,0,1-.58,1.4L9.25,21ZM18.45,9,17,7.55Zm-12,3A5.31,5.31,0,0,0,4.9,8.1,5.31,5.31,0,0,0,1,6.5,5.31,5.31,0,0,0,4.9,4.9,5.31,5.31,0,0,0,6.5,1,5.31,5.31,0,0,0,8.1,4.9,5.31,5.31,0,0,0,12,6.5,5.46,5.46,0,0,0,6.5,12Z\"/>\n",
              "  </svg>\n",
              "    </button>\n",
              "    <script>\n",
              "      (() => {\n",
              "      const buttonEl =\n",
              "        document.querySelector('#id_620b8033-293e-40ef-afc8-30bf60197c59 button.colab-df-generate');\n",
              "      buttonEl.style.display =\n",
              "        google.colab.kernel.accessAllowed ? 'block' : 'none';\n",
              "\n",
              "      buttonEl.onclick = () => {\n",
              "        google.colab.notebook.generateWithVariable('df');\n",
              "      }\n",
              "      })();\n",
              "    </script>\n",
              "  </div>\n",
              "\n",
              "    </div>\n",
              "  </div>\n"
            ],
            "application/vnd.google.colaboratory.intrinsic+json": {
              "type": "dataframe",
              "variable_name": "df",
              "summary": "{\n  \"name\": \"df\",\n  \"rows\": 1,\n  \"fields\": [\n    {\n      \"column\": \"\\u65e5\\u671f\",\n      \"properties\": {\n        \"dtype\": \"object\",\n        \"num_unique_values\": 1,\n        \"samples\": [\n          \"2025-09-29\"\n        ],\n        \"semantic_type\": \"\",\n        \"description\": \"\"\n      }\n    },\n    {\n      \"column\": \"\\u6642\\u9593\",\n      \"properties\": {\n        \"dtype\": \"object\",\n        \"num_unique_values\": 1,\n        \"samples\": [\n          \"18:00\"\n        ],\n        \"semantic_type\": \"\",\n        \"description\": \"\"\n      }\n    },\n    {\n      \"column\": \"\\u54c1\\u9805\",\n      \"properties\": {\n        \"dtype\": \"string\",\n        \"num_unique_values\": 1,\n        \"samples\": [\n          \"\\u9e79\\u9165\\u96de\"\n        ],\n        \"semantic_type\": \"\",\n        \"description\": \"\"\n      }\n    },\n    {\n      \"column\": \"\\u6578\\u91cf\",\n      \"properties\": {\n        \"dtype\": \"string\",\n        \"num_unique_values\": 1,\n        \"samples\": [\n          \"2\"\n        ],\n        \"semantic_type\": \"\",\n        \"description\": \"\"\n      }\n    },\n    {\n      \"column\": \"\\u91d1\\u984d\",\n      \"properties\": {\n        \"dtype\": \"number\",\n        \"std\": null,\n        \"min\": 120.0,\n        \"max\": 120.0,\n        \"num_unique_values\": 1,\n        \"samples\": [\n          120.0\n        ],\n        \"semantic_type\": \"\",\n        \"description\": \"\"\n      }\n    },\n    {\n      \"column\": \"\\u5206\\u985e\",\n      \"properties\": {\n        \"dtype\": \"string\",\n        \"num_unique_values\": 1,\n        \"samples\": [\n          \"\\u9910\\u98f2\"\n        ],\n        \"semantic_type\": \"\",\n        \"description\": \"\"\n      }\n    },\n    {\n      \"column\": \"\\u652f\\u4ed8\\u65b9\\u5f0f\",\n      \"properties\": {\n        \"dtype\": \"string\",\n        \"num_unique_values\": 1,\n        \"samples\": [\n          \"\\u73fe\\u91d1\"\n        ],\n        \"semantic_type\": \"\",\n        \"description\": \"\"\n      }\n    },\n    {\n      \"column\": \"\\u4ed8\\u6b3e\\u4eba\",\n      \"properties\": {\n        \"dtype\": \"string\",\n        \"num_unique_values\": 1,\n        \"samples\": [\n          \"MATCHA\"\n        ],\n        \"semantic_type\": \"\",\n        \"description\": \"\"\n      }\n    },\n    {\n      \"column\": \"\\u5730\\u9ede\",\n      \"properties\": {\n        \"dtype\": \"string\",\n        \"num_unique_values\": 1,\n        \"samples\": [\n          \"\\u5e2b\\u5712\\u9e79\\u9165\\u96de\"\n        ],\n        \"semantic_type\": \"\",\n        \"description\": \"\"\n      }\n    },\n    {\n      \"column\": \"\\u5099\\u8a3b\",\n      \"properties\": {\n        \"dtype\": \"object\",\n        \"num_unique_values\": 1,\n        \"samples\": [\n          \"\"\n        ],\n        \"semantic_type\": \"\",\n        \"description\": \"\"\n      }\n    }\n  ]\n}"
            }
          },
          "metadata": {},
          "execution_count": 127
        }
      ]
    },
    {
      "cell_type": "code",
      "source": [
        "# 將 DataFrame 轉換成列表的列表 (list of lists)，這是 gspread 支援的資料格式\n",
        "data_to_write = df.values.tolist()\n",
        "\n",
        "# 第一步：取得工作表物件\n",
        "worksheet = gsheets.worksheet('工作表1')\n",
        "\n",
        "# 第二步：將資料寫入工作表\n",
        "worksheet.append_rows(values=data_to_write, value_input_option='USER_ENTERED')\n",
        "print(\"資料已成功寫入 Google 工作表！\")"
      ],
      "metadata": {
        "colab": {
          "base_uri": "https://localhost:8080/"
        },
        "id": "MOVNxTQ_nEJt",
        "outputId": "3e8322ec-8ccb-4cb8-e30b-f56af29e3cb7"
      },
      "execution_count": 128,
      "outputs": [
        {
          "output_type": "stream",
          "name": "stdout",
          "text": [
            "資料已成功寫入 Google 工作表！\n"
          ]
        }
      ]
    },
    {
      "cell_type": "code",
      "source": [
        "import gradio as gr\n",
        "import datetime\n",
        "import gspread\n",
        "from google.colab import auth\n",
        "from google.auth import default\n",
        "import plotly.express as px\n",
        "\n",
        "# 欄位列表與設定\n",
        "SHEET_URL = \"https://docs.google.com/spreadsheets/d/1o4BY-VlRvKt0VFxY0pLuPaQKsLoRki8W9fDMaYgxGbI/edit?gid=0#gid=0\"\n",
        "WORKSHEET_NAME = \"工作表1\"\n",
        "REQUIRED_COLUMNS = [\"日期\", \"時間\", \"品項\", \"數量\", \"金額\", \"分類\" ,\"支付方式\",\"付款人\", \"地點\", \"備註\"]\n",
        "_auth_done = False\n",
        "_gc = None\n",
        "_ws = None\n",
        "\n",
        "# --- 變數定義區 (請放在程式碼的最上方) ---\n",
        "\n",
        "\n",
        "PREVIEW_COLUMNS_ORDER = [\n",
        "    '日期',\n",
        "    '時間',\n",
        "    '品項',\n",
        "    '數量',\n",
        "    '金額',\n",
        "    '分類',\n",
        "    '支付方式',\n",
        "    '付款人',\n",
        "    '地點',\n",
        "    '備註'\n",
        "]\n",
        "\n",
        "# ----------------------------------------"
      ],
      "metadata": {
        "id": "KRnmVkxzsEnd"
      },
      "execution_count": 129,
      "outputs": []
    },
    {
      "cell_type": "code",
      "source": [
        "# --- 輔助函數 ---\n",
        "def _ensure_auth_and_ws():\n",
        "    global _auth_done, _gc, _ws\n",
        "    if not _auth_done:\n",
        "        auth.authenticate_user()\n",
        "        creds, _ = default()\n",
        "        _gc = gspread.authorize(creds)\n",
        "        _auth_done = True\n",
        "    if _ws is None:\n",
        "        # 確保這些變數已在您的實際代碼中定義\n",
        "        global SHEET_URL, WORKSHEET_NAME\n",
        "        gs = _gc.open_by_url(SHEET_URL)\n",
        "        _ws = gs.worksheet(WORKSHEET_NAME)\n",
        "        _ensure_headers()\n",
        "    return _ws\n",
        "\n",
        "def _ensure_headers():\n",
        "    global REQUIRED_COLUMNS # 確保 REQUIRED_COLUMNS 已定義\n",
        "    rows = _ws.get_all_values()\n",
        "    if not rows:\n",
        "        _ws.append_row(REQUIRED_COLUMNS, value_input_option=\"USER_ENTERED\")\n",
        "        return\n",
        "    header = rows[0]\n",
        "    if header != REQUIRED_COLUMNS:\n",
        "        existing = {h: idx for idx, h in enumerate(header)}\n",
        "        _ws.update('1:1', [REQUIRED_COLUMNS])\n",
        "\n",
        "        if len(rows) > 1:\n",
        "            new_rows = []\n",
        "            for r in rows[1:]:\n",
        "                mapping = {col: (r[existing[col]] if col in existing and existing[col] < len(r) else \"\")\n",
        "                           for col in REQUIRED_COLUMNS}\n",
        "                new_rows.append([mapping[c] for c in REQUIRED_COLUMNS])\n",
        "            _ws.resize(rows=1)\n",
        "            _ws.append_rows(new_rows, value_input_option=\"USER_ENTERED\")\n",
        "\n",
        "def _read_df():\n",
        "    ws = _ensure_auth_and_ws()\n",
        "    values = ws.get_all_values()\n",
        "    if not values:\n",
        "        return pd.DataFrame(columns=REQUIRED_COLUMNS)\n",
        "\n",
        "    df = pd.DataFrame(values[1:], columns=values[0])\n",
        "\n",
        "    # 【修正 1：欄位名稱校正】將可能的 '類別' 或其他名稱統一改為 '分類'\n",
        "    column_mapping = {\n",
        "        '類別': '分類',\n",
        "        # 這裡可以加入更多您 Google Sheet 中可能使用的分類名稱\n",
        "    }\n",
        "    df.rename(columns=column_mapping, inplace=True)\n",
        "\n",
        "    if \"金額\" in df.columns:\n",
        "        # 確保金額是數字類型，以便進行運算和繪圖\n",
        "        df[\"金額\"] = pd.to_numeric(df[\"金額\"], errors=\"coerce\").fillna(0.0)\n",
        "\n",
        "    return df\n",
        "# -----------------------------------------------------------------------\n",
        "\n",
        "# --- AI 回饋函數 (維持不變) ---\n",
        "def generate_daily_feedback(df: pd.DataFrame) -> str:\n",
        "    \"\"\"\n",
        "    根據當日資料提供更具體的分類回饋。\n",
        "    \"\"\"\n",
        "    if df.empty:\n",
        "        return \"🤖 歡迎使用！開始新增第一筆記錄吧。\"\n",
        "\n",
        "    # 1. 篩選出今日的資料\n",
        "    today_str = datetime.date.today().strftime(\"%Y-%m-%d\")\n",
        "    df_today = df[df['日期'] == today_str].copy()\n",
        "\n",
        "    if df_today.empty:\n",
        "        return f\"🤖 今天 ({today_str}) 還沒有新增支出或收入記錄喔！\"\n",
        "\n",
        "    # 確保金額是數字\n",
        "    df_today['金額'] = pd.to_numeric(df_today['金額'], errors='coerce').fillna(0)\n",
        "    df_expense = df_today[df_today['分類'] != '收入']\n",
        "\n",
        "    # 2. 計算今日總額與淨流入\n",
        "    total_spend_today = df_expense['金額'].sum()\n",
        "    total_income_today = df_today[df_today['分類'] == '收入']['金額'].sum()\n",
        "\n",
        "    feedback = [f\"🤖 **今日財務小結 ({today_str}):**\\n\"]\n",
        "\n",
        "    # 3. 規則：總體支出警告 (假設超過 $800 為多)\n",
        "    SPEND_LIMIT = 800\n",
        "    if total_spend_today > SPEND_LIMIT:\n",
        "        feedback.append(f\"🔴 **總支出警報！** 今日已花費 **${total_spend_today:.0f}**，已超過 ${SPEND_LIMIT} 的每日預算建議。\")\n",
        "\n",
        "    # 4. 規則：針對個別分類的建議\n",
        "    if not df_expense.empty:\n",
        "\n",
        "        # 按分類彙總今日支出\n",
        "        daily_cat_summary = df_expense.groupby('分類')['金額'].sum().sort_values(ascending=False)\n",
        "\n",
        "        for category, amount in daily_cat_summary.items():\n",
        "            if amount == 0:\n",
        "                continue\n",
        "\n",
        "            # --- 餐飲建議 ---\n",
        "            if category == '餐飲' and amount > 500:\n",
        "                feedback.append(f\"🟡 **餐飲 (${amount:.0f})：** 今天的餐飲花費似乎有點高喔。嘗試自備或找找更實惠的餐廳，或許能省下一筆！\")\n",
        "            elif category == '餐飲' and amount > 300:\n",
        "                feedback.append(f\"👍 **餐飲 (${amount:.0f})：** 支出合理。保持良好的飲食與消費習慣！\")\n",
        "\n",
        "            # --- 交通建議 ---\n",
        "            elif category == '交通' and amount > 150:\n",
        "                feedback.append(f\"⚠️ **交通 (${amount:.0f})：** 今日交通費用較高。可以考慮多利用大眾運輸的月票或騎乘單車，以減少長期開銷。\")\n",
        "            elif category == '交通' and amount > 0:\n",
        "                 feedback.append(f\"🟢 **交通 (${amount:.0f})：** 交通規劃得不錯，這是通勤支出的合理範圍。\")\n",
        "\n",
        "            # --- 娛樂建議 ---\n",
        "            elif category == '娛樂' and amount > 1000:\n",
        "                feedback.append(f\"🔥 **娛樂 (${amount:.0f})：** 娛樂是必要的，但今日娛樂消費偏高！請確保這筆支出在當月預算內，避免透支。\")\n",
        "            elif category == '娛樂' and amount > 0:\n",
        "                feedback.append(f\"✨ **娛樂 (${amount:.0f})：** 保持適度的放鬆很重要。找找免費或低成本的娛樂活動，讓樂趣與省錢並行！\")\n",
        "\n",
        "            # --- 其他/生活用品建議 ---\n",
        "            elif category in ['生活用品','學習','其他'] and amount > 400:\n",
        "                feedback.append(f\"💡 **{category} (${amount:.0f})：** {category}有大筆支出。建議檢查是否有非必要性或可以延後的採買項目。\")\n",
        "\n",
        "    # 5. 規則：收入提醒 (放在最後總結)\n",
        "    if total_income_today > 0:\n",
        "          feedback.append(f\"\\n🟢 **收入 (${total_income_today:.0f})：** 今日有資金進帳，為您的財務狀況加分！\")\n",
        "\n",
        "    # 6. 規則：總結\n",
        "    net_flow = total_income_today - total_spend_today\n",
        "    if net_flow < 0 and total_spend_today <= SPEND_LIMIT:\n",
        "        feedback.append(f\"\\n😊 **總體評價：** 支出在控制範圍內。總淨流出 ${abs(net_flow):.0f}。\")\n",
        "    elif net_flow >= 0 and total_spend_today <= SPEND_LIMIT:\n",
        "        feedback.append(f\"\\n🎉 **總體評價：** 收支平衡良好！淨流入 ${net_flow:.0f}。\")\n",
        "    elif total_spend_today > SPEND_LIMIT and net_flow < 0:\n",
        "        feedback.append(f\"\\n🧐 **總體評價：** 今日淨流出 ${abs(net_flow):.0f}。記得查看高額支出建議，以調整未來預算！\")\n",
        "\n",
        "    return \"\\n\".join(feedback)\n",
        "# -----------------------------------------------------------------------\n",
        "\n",
        "\n",
        "# --- 圖表繪製與彙總函式 (已修正繪圖檢查邏輯) ---\n",
        "def _make_summary_tables_and_plot(df: pd.DataFrame):\n",
        "    if \"分類\" in df.columns and \"金額\" in df.columns:\n",
        "        # 確保金額是數字類型 (重複確認)\n",
        "        df['金額'] = pd.to_numeric(df['金額'], errors='coerce').fillna(0.0)\n",
        "\n",
        "        by_cat = df.groupby(\"分類\", as_index=False)[\"金額\"].sum().sort_values(\"金額\", ascending=False)\n",
        "\n",
        "        # 篩選掉 '收入' 類別，只留下支出\n",
        "        by_cat_plot = by_cat[by_cat['分類'] != '收入'].copy()\n",
        "\n",
        "        # 【修正 2：檢查是否有有效支出數據可以繪圖】\n",
        "        if not by_cat_plot.empty and by_cat_plot['金額'].sum() > 0:\n",
        "            try:\n",
        "                # 嘗試繪圖\n",
        "                fig = px.pie(by_cat_plot, values='金額', names='分類', title='支出分類佔比')\n",
        "                fig.update_traces(textposition='inside', textinfo='percent+label')\n",
        "            except Exception as e:\n",
        "                # 繪圖失敗時，回傳空的 Gradio Plot\n",
        "                print(f\"Plotly 繪圖時發生錯誤: {e}\")\n",
        "                fig = gr.Plot()\n",
        "        else:\n",
        "            # 沒有支出數據時，回傳空的 Gradio Plot\n",
        "            fig = gr.Plot()\n",
        "\n",
        "    else:\n",
        "        # 如果缺少 '分類' 或 '金額' 欄位，回傳空的結果\n",
        "        by_cat = pd.DataFrame(columns=[\"分類\", \"金額\"])\n",
        "        fig = gr.Plot()\n",
        "\n",
        "    # AA 分攤邏輯\n",
        "    if \"付款人\" in df.columns and df[\"付款人\"].notna().any():\n",
        "        payers = df[\"付款人\"].replace(\"\", \"匿名\")\n",
        "        unique_payers = sorted([p for p in payers.unique() if p])\n",
        "\n",
        "        if len(unique_payers) >= 2:\n",
        "            total = df[\"金額\"].sum()\n",
        "            n = len(unique_payers)\n",
        "            aa_share = total / n\n",
        "            paid_by = df.groupby(\"付款人\", as_index=False)[\"金額\"].sum().rename(columns={\"金額\": \"實付\"})\n",
        "\n",
        "            all_rows = pd.DataFrame({\"付款人\": unique_payers}).merge(paid_by, on=\"付款人\", how=\"left\").fillna({\"實付\": 0.0})\n",
        "            all_rows[\"應付(AA)\"] = aa_share\n",
        "            all_rows[\"差額(實付-應付)\"] = all_rows[\"實付\"] - all_rows[\"應付(AA)\"]\n",
        "            settle = all_rows.sort_values(\"差額(實付-應付)\", ascending=False)\n",
        "        else:\n",
        "            settle = pd.DataFrame(columns=[\"付款人\", \"實付\", \"應付(AA)\", \"差額(實付-應付)\"])\n",
        "    else:\n",
        "        settle = pd.DataFrame(columns=[\"付款人\", \"實付\", \"應付(AA)\", \"差額(實付-應付)\"])\n",
        "\n",
        "    return by_cat, settle, fig\n",
        "# -----------------------------------------------------------------------\n",
        "\n",
        "# --- 核心邏輯函式 (維持不變) ---\n",
        "def add_expense(date_str, time_str, category, item, amount, payer, location, pay_way, notes):\n",
        "    try:\n",
        "        # ... (略) ... 這裡假設您新增資料時的欄位順序與 REQUIRED_COLUMNS 匹配\n",
        "        if not date_str:\n",
        "            date_str = datetime.date.today().strftime(\"%Y-%m-%d\")\n",
        "\n",
        "        datetime.datetime.strptime(date_str, \"%Y-%m-%d\")\n",
        "        if time_str:\n",
        "            datetime.datetime.strptime(time_str, \"%H:%M\")\n",
        "\n",
        "        category = (category or \"未填\").strip()\n",
        "        item = (item or \"未填\").strip()\n",
        "        payer = (payer or \"匿名\").strip()\n",
        "        location = (location or \"\").strip()\n",
        "        pay_way = (pay_way or \"未填\").strip()\n",
        "        notes = (notes or \"\").strip()\n",
        "\n",
        "        try:\n",
        "            amount_val = float(amount)\n",
        "        except:\n",
        "            return (f\"金額格式錯誤，請輸入數字\", None, None, None, None, \"\",\n",
        "                    gr.update(value=date_str), gr.update(value=time_str), gr.update(value=category), gr.update(value=item), gr.update(value=amount), gr.update(value=payer), gr.update(value=location), gr.update(value=pay_way), gr.update(value=notes))\n",
        "\n",
        "        ws = _ensure_auth_and_ws()\n",
        "        # ⚠️ 注意：這裡的欄位數量必須與您的 REQUIRED_COLUMNS 數量一致\n",
        "        ws.append_row(\n",
        "            [date_str, time_str or \"\", category, item, amount_val, payer, location, pay_way, notes], # 假設這是您舊的欄位順序和數量\n",
        "            value_input_option=\"USER_ENTERED\"\n",
        "        )\n",
        "        msg = f\"✅ 已新增：{date_str}｜{category}｜{item}｜{amount_val}｜{payer}...\"\n",
        "\n",
        "        df = _read_df()\n",
        "        cat, settle, fig = _make_summary_tables_and_plot(df)\n",
        "        total = float(df[\"金額\"].sum()) if not df.empty else 0.0\n",
        "\n",
        "        feedback = generate_daily_feedback(df)\n",
        "\n",
        "        return (msg, total, cat, settle, fig, feedback,\n",
        "                gr.update(value=datetime.date.today().strftime(\"%Y-%m-%d\")),\n",
        "                gr.update(value=datetime.datetime.now().strftime(\"%H:%M\")),\n",
        "                gr.update(value=None),\n",
        "                gr.update(value=\"\"),\n",
        "                gr.update(value=None),\n",
        "                gr.update(value=\"\"),\n",
        "                gr.update(value=\"\"),\n",
        "                gr.update(value='現金'),\n",
        "                gr.update(value=\"\")\n",
        "        )\n",
        "    except Exception as e:\n",
        "        return (f\"❌ 新增失敗：{e}\", None, None, None, None, \"❌ 新增失敗，無法生成回饋。\",\n",
        "                gr.update(value=date_str), gr.update(value=time_str), gr.update(value=category), gr.update(value=item), gr.update(value=amount), gr.update(value=payer), gr.update(value=location), gr.update(value=pay_way), gr.update(value=notes))\n",
        "\n",
        "def refresh_summary():\n",
        "    try:\n",
        "        df = _read_df()\n",
        "        if df.empty:\n",
        "            empty_preview_df = pd.DataFrame(columns=PREVIEW_COLUMNS_ORDER)\n",
        "            return \"目前沒有資料\", 0.0, pd.DataFrame(), pd.DataFrame(), gr.Plot(), empty_preview_df, generate_daily_feedback(df)\n",
        "\n",
        "        total = float(df[\"金額\"].sum())\n",
        "        by_cat, settle, fig = _make_summary_tables_and_plot(df)\n",
        "\n",
        "        # 找出 df 中存在的，且在目標順序中的欄位\n",
        "        existing_cols = [col for col in PREVIEW_COLUMNS_ORDER if col in df.columns]\n",
        "\n",
        "        # 修正重複索引問題\n",
        "        df_preview = df.tail(10).reset_index(drop=True).reindex(columns=existing_cols)\n",
        "\n",
        "        feedback = generate_daily_feedback(df)\n",
        "\n",
        "        return \"✅ 已更新彙總\", total, by_cat, settle, fig, df_preview, feedback\n",
        "    except Exception as e:\n",
        "        # 在這裡顯示更詳細的錯誤訊息，幫助您除錯\n",
        "        import traceback\n",
        "        traceback.print_exc()\n",
        "        return f\"❌ 讀取失敗：{e}\", 0.0, pd.DataFrame(), pd.DataFrame(), gr.Plot(), pd.DataFrame(), f\"❌ 讀取資料失敗，錯誤細節：{e}\"\n",
        "# -----------------------------------------------------------------------\n",
        "\n",
        "# --- Gradio 介面定義 (維持不變) ---\n",
        "with gr.Blocks(title=\"日常支出速算與分攤\") as demo:\n",
        "    gr.Markdown(\"## 🧾 日常支出速算與分攤（Gradio）\\n- 新增支出後自動寫回 Google Sheet\\n- 一鍵查看總額、分類小計與 AA 分攤\\n- 讀寫工作表：`工作表1`\")\n",
        "\n",
        "    category_choices = ['餐飲', '交通', '娛樂', '生活用品', '學習', '收入', '其他']\n",
        "    pay_way_choices = ['現金', '信用卡', '電子支付', '轉帳', '其他']\n",
        "\n",
        "    with gr.Tab(\"➕ 新增支出\"):\n",
        "        gr.Markdown(\"### 填寫交易資訊（新增後自動清空）\")\n",
        "\n",
        "        with gr.Row():\n",
        "            date_in = gr.Textbox(label=\"日期 YYYY-MM-DD\", value=datetime.date.today().strftime(\"%Y-%m-%d\"))\n",
        "            time_in = gr.Textbox(label=\"時間 HH:MM\", value=datetime.datetime.now().strftime(\"%H:%M\"))\n",
        "\n",
        "        with gr.Row():\n",
        "            cat_in = gr.Dropdown(label=\"分類\", choices=category_choices, value='餐飲')\n",
        "            item_in = gr.Textbox(label=\"品項\", placeholder=\"如 咖啡 / 便當 / 車票\")\n",
        "\n",
        "        with gr.Row():\n",
        "            amt_in = gr.Number(label=\"金額\", placeholder=\"數字\")\n",
        "            payer_in = gr.Textbox(label=\"付款人\", placeholder=\"如 Pecu / Alice / Bob\")\n",
        "\n",
        "        with gr.Row():\n",
        "            location_in = gr.Textbox(label=\"購買地點\", placeholder=\"如 全家 / 餐廳名稱\")\n",
        "            pay_way_in = gr.Dropdown(label=\"支付方式\", choices=pay_way_choices, value='現金')\n",
        "\n",
        "        with gr.Row():\n",
        "            notes_in = gr.Textbox(label=\"交易描述/備註\", placeholder=\"如 朋友生日禮物、公司報銷\", lines=2)\n",
        "\n",
        "        add_btn = gr.Button(\"新增到工作表並清空表單\", variant=\"primary\")\n",
        "\n",
        "        # 輸出元件\n",
        "        add_msg = gr.Markdown()\n",
        "        total_out = gr.Number(label=\"目前總額\", interactive=False)\n",
        "        cat_df = gr.Dataframe(label=\"分類小計\", interactive=False)\n",
        "        settle_df = gr.Dataframe(label=\"AA 分攤結算\", interactive=False)\n",
        "        pie_plot = gr.Plot(label=\"支出分類圓餅圖\")\n",
        "\n",
        "        daily_feedback_out_add = gr.Markdown(label=\"今日 AI 智慧回饋\")\n",
        "\n",
        "        # 按鈕點擊事件： inputs 和 outputs 順序與 add_expense 參數一致\n",
        "        add_btn.click(\n",
        "            fn=add_expense,\n",
        "            inputs=[date_in, time_in, cat_in, item_in, amt_in, payer_in, location_in, pay_way_in, notes_in],\n",
        "            outputs=[\n",
        "                add_msg, total_out, cat_df, settle_df, pie_plot, daily_feedback_out_add,\n",
        "                date_in, time_in, cat_in, item_in, amt_in, payer_in, location_in, pay_way_in, notes_in\n",
        "            ]\n",
        "        )\n",
        "\n",
        "    with gr.Tab(\"📊 彙總 / 視覺化\"):\n",
        "        refresh_btn = gr.Button(\"讀取最新彙總與圖表\", variant=\"secondary\")\n",
        "        msg2 = gr.Markdown()\n",
        "\n",
        "        with gr.Row():\n",
        "            total2 = gr.Number(label=\"總額\", interactive=False)\n",
        "\n",
        "        with gr.Row():\n",
        "            cat_plot = gr.Plot(label=\"支出分類圓餅圖\")\n",
        "\n",
        "        with gr.Row():\n",
        "            cat_df2 = gr.Dataframe(label=\"分類小計\", interactive=False)\n",
        "            settle_df2 = gr.Dataframe(label=\"AA 分攤結算\", interactive=False)\n",
        "\n",
        "        raw_preview = gr.Dataframe(label=\"（預覽）最近資料\", interactive=False)\n",
        "        daily_feedback_out_summary = gr.Markdown(label=\"今日 AI 智慧回饋\")\n",
        "\n",
        "        refresh_btn.click(\n",
        "            fn=refresh_summary,\n",
        "            inputs=[],\n",
        "            outputs=[msg2, total2, cat_df2, settle_df2, cat_plot, raw_preview, daily_feedback_out_summary]\n",
        "        )\n",
        "\n",
        "    with gr.Tab(\"📒 檢視原始資料\"):\n",
        "        view_btn = gr.Button(\"讀取全部資料\", variant=\"secondary\")\n",
        "        view_df = gr.Dataframe(label=\"全部資料\", interactive=False)\n",
        "\n",
        "        def _view_all():\n",
        "            try:\n",
        "                df = _read_df()\n",
        "                if df.empty:\n",
        "                    return pd.DataFrame(columns=REQUIRED_COLUMNS)\n",
        "                return df\n",
        "            except Exception as e:\n",
        "                return pd.DataFrame({\"錯誤\": [str(e)]})\n",
        "\n",
        "        view_btn.click(fn=_view_all, inputs=[], outputs=[view_df])\n",
        "\n",
        "# 啟動介面\n",
        "demo.launch(share=True)"
      ],
      "metadata": {
        "colab": {
          "base_uri": "https://localhost:8080/",
          "height": 611
        },
        "id": "B-eu46SFrKQV",
        "outputId": "53ad1fba-7461-4a17-e1ed-25c7ba82a20e"
      },
      "execution_count": 130,
      "outputs": [
        {
          "output_type": "stream",
          "name": "stdout",
          "text": [
            "Colab notebook detected. To show errors in colab notebook, set debug=True in launch()\n",
            "* Running on public URL: https://3c46e14304b9aa8da7.gradio.live\n",
            "\n",
            "This share link expires in 1 week. For free permanent hosting and GPU upgrades, run `gradio deploy` from the terminal in the working directory to deploy to Hugging Face Spaces (https://huggingface.co/spaces)\n"
          ]
        },
        {
          "output_type": "display_data",
          "data": {
            "text/plain": [
              "<IPython.core.display.HTML object>"
            ],
            "text/html": [
              "<div><iframe src=\"https://3c46e14304b9aa8da7.gradio.live\" width=\"100%\" height=\"500\" allow=\"autoplay; camera; microphone; clipboard-read; clipboard-write;\" frameborder=\"0\" allowfullscreen></iframe></div>"
            ]
          },
          "metadata": {}
        },
        {
          "output_type": "execute_result",
          "data": {
            "text/plain": []
          },
          "metadata": {},
          "execution_count": 130
        }
      ]
    }
  ]
}