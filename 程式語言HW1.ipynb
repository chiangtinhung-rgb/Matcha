{
  "nbformat": 4,
  "nbformat_minor": 0,
  "metadata": {
    "colab": {
      "provenance": [],
      "authorship_tag": "ABX9TyMcXaT0mrw4wDpfupv/6t5P",
      "include_colab_link": true
    },
    "kernelspec": {
      "name": "python3",
      "display_name": "Python 3"
    },
    "language_info": {
      "name": "python"
    }
  },
  "cells": [
    {
      "cell_type": "markdown",
      "metadata": {
        "id": "view-in-github",
        "colab_type": "text"
      },
      "source": [
        "<a href=\"https://colab.research.google.com/github/chiangtinhung-rgb/Matcha/blob/main/%E7%A8%8B%E5%BC%8F%E8%AA%9E%E8%A8%80HW1.ipynb\" target=\"_parent\"><img src=\"https://colab.research.google.com/assets/colab-badge.svg\" alt=\"Open In Colab\"/></a>"
      ]
    },
    {
      "cell_type": "markdown",
      "source": [
        "***日常支出速算與分攤（作業一）***\n",
        "\n",
        "目標：從 Sheet 讀「消費紀錄」→ 計總額/分類小計/AA分攤 → 寫回 Sheet Summary 分頁。\n",
        "\n",
        "AI 點子：請模型總結本日消費並給予預算建議（例如「餐飲支出過多」）。\n",
        "\n",
        "Sheet 欄位：date, time, item, amount, category, money, pay_way, payer_name, location, notes\n",
        "\n",
        "GoogleSheet: https://docs.google.com/spreadsheets/d/1o4BY-VlRvKt0VFxY0pLuPaQKsLoRki8W9fDMaYgxGbI/edit?gid=0#gid=0"
      ],
      "metadata": {
        "id": "t6m7Ff5LfkcJ"
      }
    },
    {
      "cell_type": "code",
      "execution_count": 1,
      "metadata": {
        "id": "hnSEAvySXVws"
      },
      "outputs": [],
      "source": [
        "from google.colab import auth\n",
        "auth.authenticate_user()\n",
        "import gspread\n",
        "from google.auth import default\n",
        "import datetime\n",
        "from types import new_class\n",
        "creds, _ = default()\n",
        "gc = gspread.authorize(creds)"
      ]
    },
    {
      "cell_type": "code",
      "source": [
        "import pandas as pd\n",
        "gsheets = gc.open_by_url('https://docs.google.com/spreadsheets/d/1o4BY-VlRvKt0VFxY0pLuPaQKsLoRki8W9fDMaYgxGbI/edit?gid=0#gid=0')"
      ],
      "metadata": {
        "id": "Tsll8lCjhREd"
      },
      "execution_count": 2,
      "outputs": []
    },
    {
      "cell_type": "code",
      "source": [
        "\n",
        "\n",
        "# 讓使用者輸入資料\n",
        "date_str = input(\"請輸入日期 (格式：YYYY-MM-DD): \")\n",
        "# 檢查日期格式是否正確\n",
        "\n",
        "\n",
        "datetime.datetime.strptime(date_str, '%Y-%m-%d')\n",
        "\n",
        "time_str = input(\"請輸入時間 (格式：HH:MM): \")\n",
        "# 檢查時間格式是否正確\n",
        "datetime.datetime.strptime(time_str, '%H:%M')\n",
        "\n",
        "item = input(\"請輸入品項:\")\n",
        "amount = input(\"請輸入數量:\")\n",
        "category = input(\"請輸入類別 (例如：'餐飲', '交通', '娛樂', '生活用品', '學習', '收入', '其他'):\")\n",
        "money = float(input(\"請輸入金額:\"))\n",
        "pay_way = input(\"請輸入支付方式  (例如：'現金', '信用卡', '電子支付', '轉帳', '其他'):\")\n",
        "payer_name = input(\"請輸入付款人名字: \")\n",
        "location = input(\"請輸入購買地點: \")\n",
        "notes = input(\"請輸入備註/交易描述 (例如：朋友生日禮物、團購運費): \")"
      ],
      "metadata": {
        "id": "pdelkAdJ5MdH"
      },
      "execution_count": null,
      "outputs": []
    },
    {
      "cell_type": "code",
      "source": [
        "# 從 gsheets 的 All-whiteboard-device 載入 sheets\n",
        "sheets = gsheets.worksheet('工作表1').get_all_values()\n",
        "# 將 sheets1 資料載入 pd 的 DataFrame 進行分析\n",
        "df = pd.DataFrame(sheets[1:], columns=sheets[0])\n",
        "# 取得最前面的5筆資料\n",
        "df.head()"
      ],
      "metadata": {
        "id": "rJJJ1En2kL6p"
      },
      "execution_count": null,
      "outputs": []
    },
    {
      "cell_type": "code",
      "source": [
        "print(date_str, time_str, item, amount, category, money, pay_way, payer_name, location, notes)"
      ],
      "metadata": {
        "id": "Py1usArH5iiH"
      },
      "execution_count": null,
      "outputs": []
    },
    {
      "cell_type": "code",
      "source": [
        "date_str"
      ],
      "metadata": {
        "id": "SJiLbZkJl3K6"
      },
      "execution_count": null,
      "outputs": []
    },
    {
      "cell_type": "code",
      "source": [
        "time_str\n"
      ],
      "metadata": {
        "id": "2AbrWUL7l7j9"
      },
      "execution_count": null,
      "outputs": []
    },
    {
      "cell_type": "code",
      "source": [
        "item"
      ],
      "metadata": {
        "id": "IouYt-nNmJYZ"
      },
      "execution_count": null,
      "outputs": []
    },
    {
      "cell_type": "code",
      "source": [
        "amount"
      ],
      "metadata": {
        "id": "G_6vBsFSmLoc"
      },
      "execution_count": null,
      "outputs": []
    },
    {
      "cell_type": "code",
      "source": [
        "category"
      ],
      "metadata": {
        "id": "PPQ8UwliBb-n"
      },
      "execution_count": null,
      "outputs": []
    },
    {
      "cell_type": "code",
      "source": [
        "money"
      ],
      "metadata": {
        "id": "3WNOro_iA82Q"
      },
      "execution_count": null,
      "outputs": []
    },
    {
      "cell_type": "code",
      "source": [
        "pay_way"
      ],
      "metadata": {
        "id": "Rzk9niuh5RoF"
      },
      "execution_count": null,
      "outputs": []
    },
    {
      "cell_type": "code",
      "source": [
        "payer_name"
      ],
      "metadata": {
        "id": "qbuAkzvRA6Ni"
      },
      "execution_count": null,
      "outputs": []
    },
    {
      "cell_type": "code",
      "source": [
        "location"
      ],
      "metadata": {
        "id": "79a0TO1IA6Fs"
      },
      "execution_count": null,
      "outputs": []
    },
    {
      "cell_type": "code",
      "source": [
        "notes"
      ],
      "metadata": {
        "id": "hFRoYjp8A55k"
      },
      "execution_count": null,
      "outputs": []
    },
    {
      "cell_type": "code",
      "source": [
        "# 定義您希望 DataFrame 擁有的唯一欄位 (Column Index)\n",
        "UNIQUE_COLUMNS = ['日期', '時間', '品項', '數量', '金額', '類別', '支付方式', '付款人', '地點', '備註']\n",
        "\n",
        "# 創建一個空的 DataFrame，並強制使用唯一的欄位名稱\n",
        "df = pd.DataFrame(columns=UNIQUE_COLUMNS)\n",
        "\n",
        "# 創建包含新資料的 DataFrame\n",
        "data = pd.DataFrame([{\n",
        "    '日期': date_str,\n",
        "    '時間': time_str,\n",
        "    '品項': item,\n",
        "    '數量': amount,\n",
        "    '金額': money,\n",
        "    '類別': category,\n",
        "    '支付方式': pay_way,\n",
        "    '付款人': payer_name,\n",
        "    '地點': location,\n",
        "    '備註': notes\n",
        "}])\n",
        "\n",
        "# 現在合併就不會有問題，因為 df 的欄位是唯一的\n",
        "df = pd.concat([df, data], ignore_index=True)\n"
      ],
      "metadata": {
        "id": "HRCmXhoOnT7m"
      },
      "execution_count": null,
      "outputs": []
    },
    {
      "cell_type": "code",
      "source": [
        "df"
      ],
      "metadata": {
        "id": "hGxJM5kLm-vf"
      },
      "execution_count": null,
      "outputs": []
    },
    {
      "cell_type": "code",
      "source": [
        "# 將 DataFrame 轉換成列表的列表 (list of lists)，這是 gspread 支援的資料格式\n",
        "data_to_write = df.values.tolist()\n",
        "\n",
        "# 第一步：取得工作表物件\n",
        "worksheet = gsheets.worksheet('工作表1')\n",
        "\n",
        "# 第二步：將資料寫入工作表\n",
        "worksheet.append_rows(values=data_to_write, value_input_option='USER_ENTERED')\n",
        "print(\"資料已成功寫入 Google 工作表！\")"
      ],
      "metadata": {
        "id": "MOVNxTQ_nEJt"
      },
      "execution_count": null,
      "outputs": []
    },
    {
      "cell_type": "code",
      "source": [
        "import gradio as gr\n",
        "import datetime\n",
        "import gspread\n",
        "from google.colab import auth\n",
        "from google.auth import default\n",
        "import plotly.express as px\n",
        "\n",
        "# 欄位列表與設定\n",
        "SHEET_URL = \"https://docs.google.com/spreadsheets/d/1o4BY-VlRvKt0VFxY0pLuPaQKsLoRki8W9fDMaYgxGbI/edit?gid=0#gid=0\"\n",
        "WORKSHEET_NAME = \"工作表1\"\n",
        "REQUIRED_COLUMNS = [\"日期\", \"時間\", \"分類\", \"品項\", \"金額\", \"付款人\", \"地點\", \"支付方式\", \"備註\"]\n",
        "_auth_done = False\n",
        "_gc = None\n",
        "_ws = None"
      ],
      "metadata": {
        "id": "KRnmVkxzsEnd"
      },
      "execution_count": null,
      "outputs": []
    },
    {
      "cell_type": "code",
      "source": [
        "# --- 輔助函數 (維持不變) ---\n",
        "def _ensure_auth_and_ws():\n",
        "    global _auth_done, _gc, _ws\n",
        "    if not _auth_done:\n",
        "        auth.authenticate_user()\n",
        "        creds, _ = default()\n",
        "        _gc = gspread.authorize(creds)\n",
        "        _auth_done = True\n",
        "    if _ws is None:\n",
        "        gs = _gc.open_by_url(SHEET_URL)\n",
        "        _ws = gs.worksheet(WORKSHEET_NAME)\n",
        "        _ensure_headers()\n",
        "    return _ws\n",
        "\n",
        "def _ensure_headers():\n",
        "    rows = _ws.get_all_values()\n",
        "    if not rows:\n",
        "        _ws.append_row(REQUIRED_COLUMNS, value_input_option=\"USER_ENTERED\")\n",
        "        return\n",
        "    header = rows[0]\n",
        "    if header != REQUIRED_COLUMNS:\n",
        "        existing = {h: idx for idx, h in enumerate(header)}\n",
        "        _ws.update('1:1', [REQUIRED_COLUMNS])\n",
        "\n",
        "        if len(rows) > 1:\n",
        "            new_rows = []\n",
        "            for r in rows[1:]:\n",
        "                mapping = {col: (r[existing[col]] if col in existing and existing[col] < len(r) else \"\")\n",
        "                           for col in REQUIRED_COLUMNS}\n",
        "                new_rows.append([mapping[c] for c in REQUIRED_COLUMNS])\n",
        "            _ws.resize(rows=1)\n",
        "            _ws.append_rows(new_rows, value_input_option=\"USER_ENTERED\")\n",
        "\n",
        "def _read_df():\n",
        "    ws = _ensure_auth_and_ws()\n",
        "    values = ws.get_all_values()\n",
        "    if not values:\n",
        "        return pd.DataFrame(columns=REQUIRED_COLUMNS)\n",
        "    df = pd.DataFrame(values[1:], columns=values[0])\n",
        "    if \"金額\" in df.columns:\n",
        "        df[\"金額\"] = pd.to_numeric(df[\"金額\"], errors=\"coerce\").fillna(0.0)\n",
        "    return df\n",
        "# -----------------------------------------------------------------------\n",
        "\n",
        "# --- AI 回饋函數 (已優化，針對不同分類給予建議) ---\n",
        "def generate_daily_feedback(df: pd.DataFrame) -> str:\n",
        "    \"\"\"\n",
        "    根據當日資料提供更具體的分類回饋。\n",
        "    \"\"\"\n",
        "    if df.empty:\n",
        "        return \"🤖 歡迎使用！開始新增第一筆記錄吧。\"\n",
        "\n",
        "    # 1. 篩選出今日的資料\n",
        "    today_str = datetime.date.today().strftime(\"%Y-%m-%d\")\n",
        "    df_today = df[df['日期'] == today_str].copy()\n",
        "\n",
        "    if df_today.empty:\n",
        "        return f\"🤖 今天 ({today_str}) 還沒有新增支出或收入記錄喔！\"\n",
        "\n",
        "    # 確保金額是數字\n",
        "    df_today['金額'] = pd.to_numeric(df_today['金額'], errors='coerce').fillna(0)\n",
        "    df_expense = df_today[df_today['分類'] != '收入']\n",
        "\n",
        "    # 2. 計算今日總額與淨流入\n",
        "    total_spend_today = df_expense['金額'].sum()\n",
        "    total_income_today = df_today[df_today['分類'] == '收入']['金額'].sum()\n",
        "\n",
        "    feedback = [f\"🤖 **今日財務小結 ({today_str}):**\\n\"]\n",
        "\n",
        "    # 3. 規則：總體支出警告 (假設超過 $800 為多)\n",
        "    SPEND_LIMIT = 800\n",
        "    if total_spend_today > SPEND_LIMIT:\n",
        "        feedback.append(f\"🔴 **總支出警報！** 今日已花費 **${total_spend_today:.0f}**，已超過 ${SPEND_LIMIT} 的每日預算建議。\")\n",
        "\n",
        "    # 4. 規則：針對個別分類的建議\n",
        "    if not df_expense.empty:\n",
        "\n",
        "        # 按分類彙總今日支出\n",
        "        daily_cat_summary = df_expense.groupby('分類')['金額'].sum().sort_values(ascending=False)\n",
        "\n",
        "        for category, amount in daily_cat_summary.items():\n",
        "            if amount == 0:\n",
        "                continue\n",
        "\n",
        "            # --- 餐飲建議 ---\n",
        "            if category == '餐飲' and amount > 500:\n",
        "                feedback.append(f\"🟡 **餐飲 (${amount:.0f})：** 今天的餐飲花費似乎有點高喔。嘗試自備或找找更實惠的餐廳，或許能省下一筆！\")\n",
        "            elif category == '餐飲' and amount > 300:\n",
        "                feedback.append(f\"👍 **餐飲 (${amount:.0f})：** 支出合理。保持良好的飲食與消費習慣！\")\n",
        "\n",
        "            # --- 交通建議 ---\n",
        "            elif category == '交通' and amount > 150:\n",
        "                feedback.append(f\"⚠️ **交通 (${amount:.0f})：** 今日交通費用較高。可以考慮多利用大眾運輸的月票或騎乘單車，以減少長期開銷。\")\n",
        "            elif category == '交通' and amount > 0:\n",
        "                 feedback.append(f\"🟢 **交通 (${amount:.0f})：** 交通規劃得不錯，這是通勤支出的合理範圍。\")\n",
        "\n",
        "            # --- 娛樂建議 ---\n",
        "            elif category == '娛樂' and amount > 1000:\n",
        "                feedback.append(f\"🔥 **娛樂 (${amount:.0f})：** 娛樂是必要的，但今日娛樂消費偏高！請確保這筆支出在當月預算內，避免透支。\")\n",
        "            elif category == '娛樂' and amount > 0:\n",
        "                feedback.append(f\"✨ **娛樂 (${amount:.0f})：** 保持適度的放鬆很重要。找找免費或低成本的娛樂活動，讓樂趣與省錢並行！\")\n",
        "\n",
        "            # --- 其他/生活用品建議 ---\n",
        "            elif category in ['生活用品','學習','其他'] and amount > 400:\n",
        "                feedback.append(f\"💡 **{category} (${amount:.0f})：** {category}有大筆支出。建議檢查是否有非必要性或可以延後的採買項目。\")\n",
        "\n",
        "    # 5. 規則：收入提醒 (放在最後總結)\n",
        "    if total_income_today > 0:\n",
        "         feedback.append(f\"\\n🟢 **收入 (${total_income_today:.0f})：** 今日有資金進帳，為您的財務狀況加分！\")\n",
        "\n",
        "    # 6. 規則：總結\n",
        "    net_flow = total_income_today - total_spend_today\n",
        "    if net_flow < 0 and total_spend_today <= SPEND_LIMIT:\n",
        "        feedback.append(f\"\\n😊 **總體評價：** 支出在控制範圍內。總淨流出 ${abs(net_flow):.0f}。\")\n",
        "    elif net_flow >= 0 and total_spend_today <= SPEND_LIMIT:\n",
        "        feedback.append(f\"\\n🎉 **總體評價：** 收支平衡良好！淨流入 ${net_flow:.0f}。\")\n",
        "    elif total_spend_today > SPEND_LIMIT and net_flow < 0:\n",
        "        feedback.append(f\"\\n🧐 **總體評價：** 今日淨流出 ${abs(net_flow):.0f}。記得查看高額支出建議，以調整未來預算！\")\n",
        "\n",
        "    return \"\\n\".join(feedback)\n",
        "# -----------------------------------------------------------------------\n",
        "\n",
        "\n",
        "# --- 圖表繪製與彙總函式 (維持 AA > 2 人的邏輯) ---\n",
        "def _make_summary_tables_and_plot(df: pd.DataFrame):\n",
        "    if \"分類\" in df.columns:\n",
        "        by_cat = df.groupby(\"分類\", as_index=False)[\"金額\"].sum().sort_values(\"金額\", ascending=False)\n",
        "        by_cat_plot = by_cat[by_cat['分類'] != '收入']\n",
        "        fig = px.pie(by_cat_plot, values='金額', names='分類', title='支出分類佔比')\n",
        "        fig.update_traces(textposition='inside', textinfo='percent+label')\n",
        "    else:\n",
        "        by_cat = pd.DataFrame(columns=[\"分類\", \"金額\"])\n",
        "        fig = gr.Plot()\n",
        "\n",
        "    if \"付款人\" in df.columns and df[\"付款人\"].notna().any():\n",
        "        payers = df[\"付款人\"].replace(\"\", \"匿名\")\n",
        "        unique_payers = sorted([p for p in payers.unique() if p])\n",
        "\n",
        "        # 檢查付款人數：兩位或更多才計算 AA\n",
        "        if len(unique_payers) >= 2:\n",
        "            total = df[\"金額\"].sum()\n",
        "            n = len(unique_payers)\n",
        "            aa_share = total / n\n",
        "            paid_by = df.groupby(\"付款人\", as_index=False)[\"金額\"].sum().rename(columns={\"金額\": \"實付\"})\n",
        "\n",
        "            all_rows = pd.DataFrame({\"付款人\": unique_payers}).merge(paid_by, on=\"付款人\", how=\"left\").fillna({\"實付\": 0.0})\n",
        "            all_rows[\"應付(AA)\"] = aa_share\n",
        "            all_rows[\"差額(實付-應付)\"] = all_rows[\"實付\"] - all_rows[\"應付(AA)\"]\n",
        "            settle = all_rows.sort_values(\"差額(實付-應付)\", ascending=False)\n",
        "        else:\n",
        "            # 少於兩位付款人，回傳空 DataFrame\n",
        "            settle = pd.DataFrame(columns=[\"付款人\", \"實付\", \"應付(AA)\", \"差額(實付-應付)\"])\n",
        "    else:\n",
        "        # 沒有付款人資料，回傳空 DataFrame\n",
        "        settle = pd.DataFrame(columns=[\"付款人\", \"實付\", \"應付(AA)\", \"差額(實付-應付)\"])\n",
        "\n",
        "    return by_cat, settle, fig\n",
        "# -----------------------------------------------------------------------\n",
        "\n",
        "# --- 核心邏輯函式 (新增 AI 回饋輸出) ---\n",
        "def add_expense(date_str, time_str, category, item, amount, payer, location, pay_way, notes):\n",
        "    try:\n",
        "        # ... (輸入處理邏輯維持不變) ...\n",
        "        if not date_str:\n",
        "            date_str = datetime.date.today().strftime(\"%Y-%m-%d\")\n",
        "\n",
        "        datetime.datetime.strptime(date_str, \"%Y-%m-%d\")\n",
        "        if time_str:\n",
        "            datetime.datetime.strptime(time_str, \"%H:%M\")\n",
        "\n",
        "        category = (category or \"未填\").strip()\n",
        "        item = (item or \"未填\").strip()\n",
        "        payer = (payer or \"匿名\").strip()\n",
        "        location = (location or \"\").strip()\n",
        "        pay_way = (pay_way or \"未填\").strip()\n",
        "        notes = (notes or \"\").strip()\n",
        "\n",
        "        try:\n",
        "            amount_val = float(amount)\n",
        "        except:\n",
        "            return (f\"金額格式錯誤，請輸入數字\", None, None, None, None, \"\", # 錯誤時回傳空回饋\n",
        "                    gr.update(value=date_str), gr.update(value=time_str), gr.update(value=category), gr.update(value=item), gr.update(value=amount), gr.update(value=payer), gr.update(value=location), gr.update(value=pay_way), gr.update(value=notes))\n",
        "\n",
        "        ws = _ensure_auth_and_ws()\n",
        "        ws.append_row(\n",
        "            [date_str, time_str or \"\", category, item, amount_val, payer, location, pay_way, notes],\n",
        "            value_input_option=\"USER_ENTERED\"\n",
        "        )\n",
        "        msg = f\"✅ 已新增：{date_str}｜{category}｜{item}｜{amount_val}｜{payer}...\"\n",
        "\n",
        "        df = _read_df()\n",
        "        cat, settle, fig = _make_summary_tables_and_plot(df)\n",
        "        total = float(df[\"金額\"].sum()) if not df.empty else 0.0\n",
        "\n",
        "        # 【新增：生成 AI 回饋】\n",
        "        feedback = generate_daily_feedback(df)\n",
        "\n",
        "        # 成功後：更新輸出 (新增 feedback)\n",
        "        return (msg, total, cat, settle, fig, feedback,\n",
        "                gr.update(value=datetime.date.today().strftime(\"%Y-%m-%d\")),\n",
        "                gr.update(value=datetime.datetime.now().strftime(\"%H:%M\")),\n",
        "                gr.update(value=None),\n",
        "                gr.update(value=\"\"),\n",
        "                gr.update(value=None),\n",
        "                gr.update(value=\"\"),\n",
        "                gr.update(value=\"\"),\n",
        "                gr.update(value='現金'),\n",
        "                gr.update(value=\"\")\n",
        "        )\n",
        "    except Exception as e:\n",
        "        # 錯誤訊息回傳 (新增 feedback 輸出)\n",
        "        return (f\"❌ 新增失敗：{e}\", None, None, None, None, \"❌ 新增失敗，無法生成回饋。\",\n",
        "                gr.update(value=date_str), gr.update(value=time_str), gr.update(value=category), gr.update(value=item), gr.update(value=amount), gr.update(value=payer), gr.update(value=location), gr.update(value=pay_way), gr.update(value=notes))\n",
        "\n",
        "def refresh_summary():\n",
        "    try:\n",
        "        df = _read_df()\n",
        "        if df.empty:\n",
        "            return \"目前沒有資料\", 0.0, pd.DataFrame(), pd.DataFrame(), gr.Plot(), pd.DataFrame(), generate_daily_feedback(df)\n",
        "        total = float(df[\"金額\"].sum())\n",
        "        by_cat, settle, fig = _make_summary_tables_and_plot(df)\n",
        "\n",
        "        # 【新增：生成 AI 回饋】\n",
        "        feedback = generate_daily_feedback(df)\n",
        "\n",
        "        return \"✅ 已更新彙總\", total, by_cat, settle, fig, df, feedback\n",
        "    except Exception as e:\n",
        "        return f\"❌ 讀取失敗：{e}\", 0.0, pd.DataFrame(), pd.DataFrame(), gr.Plot(), pd.DataFrame(), \"❌ 讀取資料失敗，無法生成回饋。\"\n",
        "# -----------------------------------------------------------------------\n",
        "\n",
        "with gr.Blocks(title=\"日常支出速算與分攤\") as demo:\n",
        "    gr.Markdown(\"## 🧾 日常支出速算與分攤（Gradio）\\n- 新增支出後自動寫回 Google Sheet\\n- 一鍵查看總額、分類小計與 AA 分攤\\n- 讀寫工作表：`工作表1`\")\n",
        "\n",
        "    category_choices = ['餐飲', '交通', '娛樂', '生活用品', '學習', '收入', '其他']\n",
        "    pay_way_choices = ['現金', '信用卡', '電子支付', '轉帳', '其他']\n",
        "\n",
        "    with gr.Tab(\"➕ 新增支出\"):\n",
        "        gr.Markdown(\"### 填寫交易資訊（新增後自動清空）\")\n",
        "\n",
        "        with gr.Row():\n",
        "            date_in = gr.Textbox(label=\"日期 YYYY-MM-DD\", value=datetime.date.today().strftime(\"%Y-%m-%d\"))\n",
        "            time_in = gr.Textbox(label=\"時間 HH:MM\", value=datetime.datetime.now().strftime(\"%H:%M\"))\n",
        "\n",
        "        with gr.Row():\n",
        "            cat_in = gr.Dropdown(label=\"分類\", choices=category_choices, value='餐飲')\n",
        "            item_in = gr.Textbox(label=\"品項\", placeholder=\"如 咖啡 / 便當 / 車票\")\n",
        "\n",
        "        with gr.Row():\n",
        "            amt_in = gr.Number(label=\"金額\", placeholder=\"數字\")\n",
        "            payer_in = gr.Textbox(label=\"付款人\", placeholder=\"如 Pecu / Alice / Bob\")\n",
        "\n",
        "        with gr.Row():\n",
        "            location_in = gr.Textbox(label=\"購買地點\", placeholder=\"如 全家 / 餐廳名稱\")\n",
        "            pay_way_in = gr.Dropdown(label=\"支付方式\", choices=pay_way_choices, value='現金')\n",
        "\n",
        "        with gr.Row():\n",
        "            notes_in = gr.Textbox(label=\"交易描述/備註\", placeholder=\"如 朋友生日禮物、公司報銷\", lines=2)\n",
        "\n",
        "        add_btn = gr.Button(\"新增到工作表並清空表單\", variant=\"primary\")\n",
        "\n",
        "        # 輸出元件 (包含輸入元件以供清空)\n",
        "        add_msg = gr.Markdown()\n",
        "        total_out = gr.Number(label=\"目前總額\", interactive=False)\n",
        "        cat_df = gr.Dataframe(label=\"分類小計\", interactive=False)\n",
        "        settle_df = gr.Dataframe(label=\"AA 分攤結算\", interactive=False)\n",
        "        pie_plot = gr.Plot(label=\"支出分類圓餅圖\")\n",
        "\n",
        "        # 【新增：AI 回饋元件】\n",
        "        daily_feedback_out_add = gr.Markdown(label=\"今日 AI 智慧回饋\")\n",
        "\n",
        "        # 按鈕點擊事件：inputs 和 outputs 順序與 add_expense 參數一致\n",
        "        add_btn.click(\n",
        "            fn=add_expense,\n",
        "            inputs=[date_in, time_in, cat_in, item_in, amt_in, payer_in, location_in, pay_way_in, notes_in],\n",
        "            outputs=[\n",
        "                add_msg, total_out, cat_df, settle_df, pie_plot, daily_feedback_out_add, # <-- 新增回饋輸出\n",
        "                date_in, time_in, cat_in, item_in, amt_in, payer_in, location_in, pay_way_in, notes_in # 清空輸入\n",
        "            ]\n",
        "        )\n",
        "\n",
        "    with gr.Tab(\"📊 彙總 / 視覺化\"):\n",
        "        refresh_btn = gr.Button(\"讀取最新彙總與圖表\", variant=\"secondary\")\n",
        "        msg2 = gr.Markdown()\n",
        "\n",
        "        with gr.Row():\n",
        "            total2 = gr.Number(label=\"總額\", interactive=False)\n",
        "\n",
        "        with gr.Row():\n",
        "            cat_plot = gr.Plot(label=\"支出分類圓餅圖\")\n",
        "\n",
        "        with gr.Row():\n",
        "            cat_df2 = gr.Dataframe(label=\"分類小計\", interactive=False)\n",
        "            settle_df2 = gr.Dataframe(label=\"AA 分攤結算\", interactive=False)\n",
        "\n",
        "        raw_preview = gr.Dataframe(label=\"（預覽）最近資料\", interactive=False)\n",
        "        # 【新增：AI 回饋元件】\n",
        "        daily_feedback_out_summary = gr.Markdown(label=\"今日 AI 智慧回饋\")\n",
        "\n",
        "        refresh_btn.click(\n",
        "            fn=refresh_summary,\n",
        "            inputs=[],\n",
        "            outputs=[msg2, total2, cat_df2, settle_df2, cat_plot, raw_preview, daily_feedback_out_summary] # <-- 新增回饋輸出\n",
        "        )\n",
        "\n",
        "    with gr.Tab(\"📒 檢視原始資料\"):\n",
        "        view_btn = gr.Button(\"讀取全部資料\", variant=\"secondary\")\n",
        "        view_df = gr.Dataframe(label=\"全部資料\", interactive=False)\n",
        "\n",
        "        def _view_all():\n",
        "            try:\n",
        "                df = _read_df()\n",
        "                if df.empty:\n",
        "                    return pd.DataFrame(columns=REQUIRED_COLUMNS)\n",
        "                return df\n",
        "            except Exception as e:\n",
        "                return pd.DataFrame({\"錯誤\": [str(e)]})\n",
        "\n",
        "        view_btn.click(fn=_view_all, inputs=[], outputs=[view_df])\n",
        "\n",
        "# 啟動介面\n",
        "demo.launch(share=True)"
      ],
      "metadata": {
        "id": "B-eu46SFrKQV"
      },
      "execution_count": null,
      "outputs": []
    }
  ]
}