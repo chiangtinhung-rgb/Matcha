{
  "nbformat": 4,
  "nbformat_minor": 0,
  "metadata": {
    "colab": {
      "provenance": [],
      "authorship_tag": "ABX9TyOEaQTJwFNjISWLriHeNcZK",
      "include_colab_link": true
    },
    "kernelspec": {
      "name": "python3",
      "display_name": "Python 3"
    },
    "language_info": {
      "name": "python"
    }
  },
  "cells": [
    {
      "cell_type": "markdown",
      "metadata": {
        "id": "view-in-github",
        "colab_type": "text"
      },
      "source": [
        "<a href=\"https://colab.research.google.com/github/chiangtinhung-rgb/Matcha/blob/main/%E7%A8%8B%E5%BC%8F%E8%AA%9E%E8%A8%80HW2.ipynb\" target=\"_parent\"><img src=\"https://colab.research.google.com/assets/colab-badge.svg\" alt=\"Open In Colab\"/></a>"
      ]
    },
    {
      "cell_type": "code",
      "source": [
        "!pip install -q google-generativeai"
      ],
      "metadata": {
        "id": "K-k7GWUuoDBo"
      },
      "execution_count": 65,
      "outputs": []
    },
    {
      "cell_type": "code",
      "source": [
        "!pip install gspread"
      ],
      "metadata": {
        "colab": {
          "base_uri": "https://localhost:8080/"
        },
        "id": "zaPiAQQZoNLg",
        "outputId": "ac332b43-d90d-48a7-e48c-39f862e5aa89"
      },
      "execution_count": 66,
      "outputs": [
        {
          "output_type": "stream",
          "name": "stdout",
          "text": [
            "Requirement already satisfied: gspread in /usr/local/lib/python3.12/dist-packages (6.2.1)\n",
            "Requirement already satisfied: google-auth>=1.12.0 in /usr/local/lib/python3.12/dist-packages (from gspread) (2.38.0)\n",
            "Requirement already satisfied: google-auth-oauthlib>=0.4.1 in /usr/local/lib/python3.12/dist-packages (from gspread) (1.2.2)\n",
            "Requirement already satisfied: cachetools<6.0,>=2.0.0 in /usr/local/lib/python3.12/dist-packages (from google-auth>=1.12.0->gspread) (5.5.2)\n",
            "Requirement already satisfied: pyasn1-modules>=0.2.1 in /usr/local/lib/python3.12/dist-packages (from google-auth>=1.12.0->gspread) (0.4.2)\n",
            "Requirement already satisfied: rsa<5,>=3.1.4 in /usr/local/lib/python3.12/dist-packages (from google-auth>=1.12.0->gspread) (4.9.1)\n",
            "Requirement already satisfied: requests-oauthlib>=0.7.0 in /usr/local/lib/python3.12/dist-packages (from google-auth-oauthlib>=0.4.1->gspread) (2.0.0)\n",
            "Requirement already satisfied: pyasn1<0.7.0,>=0.6.1 in /usr/local/lib/python3.12/dist-packages (from pyasn1-modules>=0.2.1->google-auth>=1.12.0->gspread) (0.6.1)\n",
            "Requirement already satisfied: oauthlib>=3.0.0 in /usr/local/lib/python3.12/dist-packages (from requests-oauthlib>=0.7.0->google-auth-oauthlib>=0.4.1->gspread) (3.3.1)\n",
            "Requirement already satisfied: requests>=2.0.0 in /usr/local/lib/python3.12/dist-packages (from requests-oauthlib>=0.7.0->google-auth-oauthlib>=0.4.1->gspread) (2.32.4)\n",
            "Requirement already satisfied: charset_normalizer<4,>=2 in /usr/local/lib/python3.12/dist-packages (from requests>=2.0.0->requests-oauthlib>=0.7.0->google-auth-oauthlib>=0.4.1->gspread) (3.4.3)\n",
            "Requirement already satisfied: idna<4,>=2.5 in /usr/local/lib/python3.12/dist-packages (from requests>=2.0.0->requests-oauthlib>=0.7.0->google-auth-oauthlib>=0.4.1->gspread) (3.10)\n",
            "Requirement already satisfied: urllib3<3,>=1.21.1 in /usr/local/lib/python3.12/dist-packages (from requests>=2.0.0->requests-oauthlib>=0.7.0->google-auth-oauthlib>=0.4.1->gspread) (2.5.0)\n",
            "Requirement already satisfied: certifi>=2017.4.17 in /usr/local/lib/python3.12/dist-packages (from requests>=2.0.0->requests-oauthlib>=0.7.0->google-auth-oauthlib>=0.4.1->gspread) (2025.8.3)\n"
          ]
        }
      ]
    },
    {
      "cell_type": "code",
      "source": [
        "!pip install gradio"
      ],
      "metadata": {
        "colab": {
          "base_uri": "https://localhost:8080/"
        },
        "id": "3SPeMyPmeRMH",
        "outputId": "f1b5b70f-0b3d-41a4-b1ab-eaf97a5183f0"
      },
      "execution_count": 67,
      "outputs": [
        {
          "output_type": "stream",
          "name": "stdout",
          "text": [
            "Requirement already satisfied: gradio in /usr/local/lib/python3.12/dist-packages (5.47.2)\n",
            "Requirement already satisfied: aiofiles<25.0,>=22.0 in /usr/local/lib/python3.12/dist-packages (from gradio) (24.1.0)\n",
            "Requirement already satisfied: anyio<5.0,>=3.0 in /usr/local/lib/python3.12/dist-packages (from gradio) (4.11.0)\n",
            "Requirement already satisfied: brotli>=1.1.0 in /usr/local/lib/python3.12/dist-packages (from gradio) (1.1.0)\n",
            "Requirement already satisfied: fastapi<1.0,>=0.115.2 in /usr/local/lib/python3.12/dist-packages (from gradio) (0.118.0)\n",
            "Requirement already satisfied: ffmpy in /usr/local/lib/python3.12/dist-packages (from gradio) (0.6.1)\n",
            "Requirement already satisfied: gradio-client==1.13.3 in /usr/local/lib/python3.12/dist-packages (from gradio) (1.13.3)\n",
            "Requirement already satisfied: groovy~=0.1 in /usr/local/lib/python3.12/dist-packages (from gradio) (0.1.2)\n",
            "Requirement already satisfied: httpx<1.0,>=0.24.1 in /usr/local/lib/python3.12/dist-packages (from gradio) (0.28.1)\n",
            "Requirement already satisfied: huggingface-hub<2.0,>=0.33.5 in /usr/local/lib/python3.12/dist-packages (from gradio) (0.35.3)\n",
            "Requirement already satisfied: jinja2<4.0 in /usr/local/lib/python3.12/dist-packages (from gradio) (3.1.6)\n",
            "Requirement already satisfied: markupsafe<4.0,>=2.0 in /usr/local/lib/python3.12/dist-packages (from gradio) (3.0.3)\n",
            "Requirement already satisfied: numpy<3.0,>=1.0 in /usr/local/lib/python3.12/dist-packages (from gradio) (2.0.2)\n",
            "Requirement already satisfied: orjson~=3.0 in /usr/local/lib/python3.12/dist-packages (from gradio) (3.11.3)\n",
            "Requirement already satisfied: packaging in /usr/local/lib/python3.12/dist-packages (from gradio) (25.0)\n",
            "Requirement already satisfied: pandas<3.0,>=1.0 in /usr/local/lib/python3.12/dist-packages (from gradio) (2.2.2)\n",
            "Requirement already satisfied: pillow<12.0,>=8.0 in /usr/local/lib/python3.12/dist-packages (from gradio) (11.3.0)\n",
            "Requirement already satisfied: pydantic<2.12,>=2.0 in /usr/local/lib/python3.12/dist-packages (from gradio) (2.11.9)\n",
            "Requirement already satisfied: pydub in /usr/local/lib/python3.12/dist-packages (from gradio) (0.25.1)\n",
            "Requirement already satisfied: python-multipart>=0.0.18 in /usr/local/lib/python3.12/dist-packages (from gradio) (0.0.20)\n",
            "Requirement already satisfied: pyyaml<7.0,>=5.0 in /usr/local/lib/python3.12/dist-packages (from gradio) (6.0.3)\n",
            "Requirement already satisfied: ruff>=0.9.3 in /usr/local/lib/python3.12/dist-packages (from gradio) (0.13.2)\n",
            "Requirement already satisfied: safehttpx<0.2.0,>=0.1.6 in /usr/local/lib/python3.12/dist-packages (from gradio) (0.1.6)\n",
            "Requirement already satisfied: semantic-version~=2.0 in /usr/local/lib/python3.12/dist-packages (from gradio) (2.10.0)\n",
            "Requirement already satisfied: starlette<1.0,>=0.40.0 in /usr/local/lib/python3.12/dist-packages (from gradio) (0.48.0)\n",
            "Requirement already satisfied: tomlkit<0.14.0,>=0.12.0 in /usr/local/lib/python3.12/dist-packages (from gradio) (0.13.3)\n",
            "Requirement already satisfied: typer<1.0,>=0.12 in /usr/local/lib/python3.12/dist-packages (from gradio) (0.19.2)\n",
            "Requirement already satisfied: typing-extensions~=4.0 in /usr/local/lib/python3.12/dist-packages (from gradio) (4.15.0)\n",
            "Requirement already satisfied: uvicorn>=0.14.0 in /usr/local/lib/python3.12/dist-packages (from gradio) (0.37.0)\n",
            "Requirement already satisfied: fsspec in /usr/local/lib/python3.12/dist-packages (from gradio-client==1.13.3->gradio) (2025.3.0)\n",
            "Requirement already satisfied: websockets<16.0,>=13.0 in /usr/local/lib/python3.12/dist-packages (from gradio-client==1.13.3->gradio) (15.0.1)\n",
            "Requirement already satisfied: idna>=2.8 in /usr/local/lib/python3.12/dist-packages (from anyio<5.0,>=3.0->gradio) (3.10)\n",
            "Requirement already satisfied: sniffio>=1.1 in /usr/local/lib/python3.12/dist-packages (from anyio<5.0,>=3.0->gradio) (1.3.1)\n",
            "Requirement already satisfied: certifi in /usr/local/lib/python3.12/dist-packages (from httpx<1.0,>=0.24.1->gradio) (2025.8.3)\n",
            "Requirement already satisfied: httpcore==1.* in /usr/local/lib/python3.12/dist-packages (from httpx<1.0,>=0.24.1->gradio) (1.0.9)\n",
            "Requirement already satisfied: h11>=0.16 in /usr/local/lib/python3.12/dist-packages (from httpcore==1.*->httpx<1.0,>=0.24.1->gradio) (0.16.0)\n",
            "Requirement already satisfied: filelock in /usr/local/lib/python3.12/dist-packages (from huggingface-hub<2.0,>=0.33.5->gradio) (3.19.1)\n",
            "Requirement already satisfied: requests in /usr/local/lib/python3.12/dist-packages (from huggingface-hub<2.0,>=0.33.5->gradio) (2.32.4)\n",
            "Requirement already satisfied: tqdm>=4.42.1 in /usr/local/lib/python3.12/dist-packages (from huggingface-hub<2.0,>=0.33.5->gradio) (4.67.1)\n",
            "Requirement already satisfied: hf-xet<2.0.0,>=1.1.3 in /usr/local/lib/python3.12/dist-packages (from huggingface-hub<2.0,>=0.33.5->gradio) (1.1.10)\n",
            "Requirement already satisfied: python-dateutil>=2.8.2 in /usr/local/lib/python3.12/dist-packages (from pandas<3.0,>=1.0->gradio) (2.9.0.post0)\n",
            "Requirement already satisfied: pytz>=2020.1 in /usr/local/lib/python3.12/dist-packages (from pandas<3.0,>=1.0->gradio) (2025.2)\n",
            "Requirement already satisfied: tzdata>=2022.7 in /usr/local/lib/python3.12/dist-packages (from pandas<3.0,>=1.0->gradio) (2025.2)\n",
            "Requirement already satisfied: annotated-types>=0.6.0 in /usr/local/lib/python3.12/dist-packages (from pydantic<2.12,>=2.0->gradio) (0.7.0)\n",
            "Requirement already satisfied: pydantic-core==2.33.2 in /usr/local/lib/python3.12/dist-packages (from pydantic<2.12,>=2.0->gradio) (2.33.2)\n",
            "Requirement already satisfied: typing-inspection>=0.4.0 in /usr/local/lib/python3.12/dist-packages (from pydantic<2.12,>=2.0->gradio) (0.4.2)\n",
            "Requirement already satisfied: click>=8.0.0 in /usr/local/lib/python3.12/dist-packages (from typer<1.0,>=0.12->gradio) (8.3.0)\n",
            "Requirement already satisfied: shellingham>=1.3.0 in /usr/local/lib/python3.12/dist-packages (from typer<1.0,>=0.12->gradio) (1.5.4)\n",
            "Requirement already satisfied: rich>=10.11.0 in /usr/local/lib/python3.12/dist-packages (from typer<1.0,>=0.12->gradio) (13.9.4)\n",
            "Requirement already satisfied: six>=1.5 in /usr/local/lib/python3.12/dist-packages (from python-dateutil>=2.8.2->pandas<3.0,>=1.0->gradio) (1.17.0)\n",
            "Requirement already satisfied: markdown-it-py>=2.2.0 in /usr/local/lib/python3.12/dist-packages (from rich>=10.11.0->typer<1.0,>=0.12->gradio) (4.0.0)\n",
            "Requirement already satisfied: pygments<3.0.0,>=2.13.0 in /usr/local/lib/python3.12/dist-packages (from rich>=10.11.0->typer<1.0,>=0.12->gradio) (2.19.2)\n",
            "Requirement already satisfied: charset_normalizer<4,>=2 in /usr/local/lib/python3.12/dist-packages (from requests->huggingface-hub<2.0,>=0.33.5->gradio) (3.4.3)\n",
            "Requirement already satisfied: urllib3<3,>=1.21.1 in /usr/local/lib/python3.12/dist-packages (from requests->huggingface-hub<2.0,>=0.33.5->gradio) (2.5.0)\n",
            "Requirement already satisfied: mdurl~=0.1 in /usr/local/lib/python3.12/dist-packages (from markdown-it-py>=2.2.0->rich>=10.11.0->typer<1.0,>=0.12->gradio) (0.1.2)\n"
          ]
        }
      ]
    },
    {
      "cell_type": "code",
      "source": [
        "import gradio as gr\n",
        "import pandas as pd\n",
        "from google.colab import auth\n",
        "from google.auth import default\n",
        "\n",
        "# -*- coding: utf-8 -*-\n",
        "import gspread\n",
        "from datetime import datetime\n",
        "import google.generativeai as genai\n",
        "import os\n",
        "import json"
      ],
      "metadata": {
        "id": "I97WhHBc4O9x"
      },
      "execution_count": 68,
      "outputs": []
    },
    {
      "cell_type": "code",
      "source": [
        "from google.colab import userdata\n",
        "\n",
        "# 從 Colab Secrets 中獲取 API 金鑰\n",
        "api_key = userdata.get('MATCHA')\n",
        "\n",
        "# 使用獲取的金鑰配置 genai\n",
        "genai.configure(api_key=api_key)\n",
        "\n",
        "model = genai.GenerativeModel('gemini-2.5-pro')\n",
        "\n"
      ],
      "metadata": {
        "id": "dO7MT9Qa6jrB"
      },
      "execution_count": 69,
      "outputs": []
    },
    {
      "cell_type": "code",
      "source": [
        "REQUIRED_COLUMNS = [\"日期\", \"學期年\", \"科目\", \"成績\", \"預期成績\", \"備註\"]\n",
        "SHEET_URL = \"https://docs.google.com/spreadsheets/d/10DefpZAIPlSIhR7b8DxSn_yqBw0U-YLap-cYggWlZGo/edit?gid=0#gid=0\"\n",
        "WORKSHEET_NAME = \"工作表1\"\n",
        "\n",
        "_auth_done = False\n",
        "_gc = None\n",
        "_ws = None"
      ],
      "metadata": {
        "id": "3WADTsCzzp4l"
      },
      "execution_count": 70,
      "outputs": []
    },
    {
      "cell_type": "code",
      "source": [
        "try:\n",
        "    auth.authenticate_user()\n",
        "    creds, _ = default()\n",
        "    gc = gspread.authorize(creds)\n",
        "    sheets_enabled = True\n",
        "    print(\"Google Sheets 認證成功。\")\n",
        "except Exception as e:\n",
        "    print(f\"Google Sheets 認證失敗: {e}\")\n",
        "    sheets_enabled = False\n",
        "    gc = None"
      ],
      "metadata": {
        "colab": {
          "base_uri": "https://localhost:8080/"
        },
        "id": "r6X2Rudfeu5T",
        "outputId": "38070a86-bcdd-4aa7-bbe4-4923904143db"
      },
      "execution_count": 71,
      "outputs": [
        {
          "output_type": "stream",
          "name": "stdout",
          "text": [
            "Google Sheets 認證成功。\n"
          ]
        }
      ]
    },
    {
      "cell_type": "code",
      "source": [
        "# --- 主要功能區塊 ---\n",
        "def get_user_grades():\n",
        "    \"\"\"\n",
        "    透過終端機輸入學生成績，直到使用者輸入 'q' 結束。\n",
        "    \"\"\"\n",
        "    print(\"--- 準備輸入成績。輸入 'q' 來停止。---\")\n",
        "    grades = []\n",
        "    while True:\n",
        "        subject = input(\"請輸入科目（或輸入 'q' 停止）：\")\n",
        "        if subject.lower() == 'q':\n",
        "            break\n",
        "\n",
        "        grade = input(f\"請輸入 {subject} 的成績：\")\n",
        "        try:\n",
        "            grade = int(grade)\n",
        "        except ValueError:\n",
        "            print(\"成績必須是數字。請重新輸入。\")\n",
        "            continue\n",
        "\n",
        "        today = datetime.now().strftime('%Y-%m-%d')\n",
        "        grades.append([today, subject, grade])\n",
        "        print(f\"已記錄：日期: {today}, 科目: {subject}, 成績: {grade}\\n\")\n",
        "\n",
        "    return grades"
      ],
      "metadata": {
        "id": "63EUjjGPixUL"
      },
      "execution_count": 72,
      "outputs": []
    },
    {
      "cell_type": "code",
      "source": [
        "def get_ai_subject_analysis(subject_record):\n",
        "    \"\"\"\n",
        "    呼叫 Gemini 模型，對單一科目的成績記錄進行結構化分析，包含四個面向。\n",
        "\n",
        "    Args:\n",
        "        subject_record (dict): 包含單一成績記錄的字典。\n",
        "\n",
        "    Returns:\n",
        "        str: 包含結構化分析的 Markdown 文字。\n",
        "    \"\"\"\n",
        "    if not MODEL_NAME or subject_record.get('成績') == 'N/A' or subject_record.get('預期成績') == 'N/A':\n",
        "        return \"⚠️ 資料不完整或 AI 服務配置錯誤，無法進行分析。\"\n",
        "\n",
        "    data_text = \"\"\n",
        "    for k, v in subject_record.items():\n",
        "        data_text += f\"{k}: {v}\\n\"\n",
        "\n",
        "    # 針對單科目的結構化分析提示，強制模型輸出四個結構化區塊\n",
        "    system_prompt = (\n",
        "        \"您是一位專業且客觀的學業表現分析顧問。您的任務是根據單一科目的成績記錄，\"\n",
        "        \"撰寫一份結構化、鼓勵性、且具有建設性的分析報告。請嚴格遵守以下輸出格式，\"\n",
        "        \"並使用繁體中文。\\n\"\n",
        "        \"分析基於 '成績' 與 '預期成績' 之間的對比。\"\n",
        "    )\n",
        "\n",
        "    user_query = (\n",
        "        f\"請根據以下成績記錄，生成一份詳細的學業表現分析報告：\\n\\n\"\n",
        "        f\"--- 成績記錄 ---\\n\"\n",
        "        f\"{data_text}\\n\"\n",
        "        f\"-------------------\\n\\n\"\n",
        "        f\"請嚴格按照以下 Markdown 格式輸出分析內容：\\n\\n\"\n",
        "        f\"### 🎯 1. 達成標準與否 (成績 {subject_record.get('成績')} / 預期 {subject_record.get('預期成績')})\\n\"\n",
        "        f\"請判斷實際成績是否達到或超過預期成績。如果超過預期，請鼓勵；如果未達預期，請客觀指出差距。 (需具體提及數值)\\n\\n\"\n",
        "        f\"### 🌟 2. 該成績評價與觀察\\n\"\n",
        "        f\"請客觀評價該科目這次的成績表現，並結合「備註」中的資訊（如果有的話）提出觀察到的學習狀況。評價應使用鼓勵和客觀的詞彙。\\n\\n\"\n",
        "        f\"### 📈 3. 學習數據趨勢分析 (文字描述)\\n\"\n",
        "        f\"請以文字描述的方式，指出該筆成績（特別是成績與預期成績的差異）在長期趨勢圖表上可能代表的意義。建議應強調持續記錄的重要性。\\n\\n\"\n",
        "        f\"### 💡 4. 回饋與具體改善建議\\n\"\n",
        "        f\"請提供 1-2 點針對性的、可操作的改善或保持優勢的建議。建議應針對性強，例如：「專注於計算題的步驟驗算」或「擴大英文閱讀量」。\"\n",
        "    )\n",
        "\n",
        "    max_retries = 3\n",
        "    for attempt in range(max_retries):\n",
        "        try:\n",
        "            response = genai.GenerativeModel(MODEL_NAME).generate_content(\n",
        "                user_query,\n",
        "                system_instruction=system_prompt,\n",
        "            )\n",
        "            return response.text\n",
        "        except Exception as e:\n",
        "            print(f\"嘗試 {attempt + 1}/{max_retries} 呼叫 AI 失敗: {e}\")\n",
        "            if attempt == max_retries - 1:\n",
        "                return f\"AI 分析生成失敗：模型調用錯誤，請稍後再試。詳細錯誤：{e}\"\n",
        "    return \"AI 分析生成失敗：無法連線到模型。\""
      ],
      "metadata": {
        "id": "99RSE7VZi8eu"
      },
      "execution_count": 73,
      "outputs": []
    },
    {
      "cell_type": "code",
      "source": [
        "def process_grades_and_analyze(grades_data):\n",
        "    \"\"\"\n",
        "    處理 Gradio Dataframe 輸入的成績，並生成最終的 AI 綜合報告。\n",
        "    \"\"\"\n",
        "    if not isinstance(grades_data, (pd.DataFrame, list)):\n",
        "        return \"錯誤：無效的成績數據格式。\"\n",
        "\n",
        "    # 轉換為 DataFrame\n",
        "    if isinstance(grades_data, list):\n",
        "        df = pd.DataFrame(grades_data, columns=REQUIRED_COLUMNS)\n",
        "    else:\n",
        "        df = grades_data\n",
        "\n",
        "    # 篩選掉所有欄位都是空值的行\n",
        "    df.dropna(how='all', inplace=True)\n",
        "\n",
        "    if df.empty:\n",
        "        return \"請輸入至少一筆有效的成績記錄。\"\n",
        "\n",
        "    # 將 DataFrame 轉換為適合 AI 處理的記錄列表，並處理分數的類型轉換\n",
        "    subject_records = df.to_dict('records')\n",
        "\n",
        "    full_report = f\"# 📚 學業表現綜合分析報告 ({datetime.now().strftime('%Y-%m-%d %H:%M:%S')})\\n\\n\"\n",
        "    full_report += f\"本次分析共包含 **{len(subject_records)}** 筆成績記錄。\\n\"\n",
        "    full_report += \"--- \\n\"\n",
        "\n",
        "    # 對每一筆成績記錄進行 AI 分析\n",
        "    for i, record in enumerate(subject_records):\n",
        "        subject = record.get('科目', '未知科目')\n",
        "\n",
        "        # 類型轉換：確保成績欄位是數字，如果不是則標記為 N/A\n",
        "        try:\n",
        "            record['成績'] = int(record['成績'])\n",
        "        except (ValueError, TypeError):\n",
        "            record['成績'] = 'N/A'\n",
        "\n",
        "        try:\n",
        "            record['預期成績'] = int(record['預期成績'])\n",
        "        except (ValueError, TypeError):\n",
        "            record['預期成績'] = 'N/A'\n",
        "\n",
        "\n",
        "        full_report += f\"\\n## 📝 科目分析: {subject} (第 {i+1} 筆記錄)\\n\"\n",
        "        full_report += f\"**日期:** {record.get('日期', 'N/A')} | **學期年:** {record.get('學期年', 'N/A')}\\n\\n\"\n",
        "\n",
        "        # 呼叫 AI 進行單科分析\n",
        "        analysis_markdown = get_ai_subject_analysis(record)\n",
        "        full_report += analysis_markdown\n",
        "        full_report += \"\\n\\n--- \\n\" # 分隔線\n",
        "\n",
        "    return full_report\n"
      ],
      "metadata": {
        "id": "6WCORw9jkDqJ"
      },
      "execution_count": 74,
      "outputs": []
    },
    {
      "cell_type": "code",
      "source": [
        "new_grades = get_user_grades()"
      ],
      "metadata": {
        "colab": {
          "base_uri": "https://localhost:8080/"
        },
        "id": "xe98Qzrf7gwX",
        "outputId": "99072248-44c6-4307-fa64-b76b414da838"
      },
      "execution_count": 75,
      "outputs": [
        {
          "name": "stdout",
          "output_type": "stream",
          "text": [
            "--- 準備輸入成績。輸入 'q' 來停止。---\n",
            "請輸入科目（或輸入 'q' 停止）：國文\n",
            "請輸入 國文 的成績：90\n",
            "已記錄：日期: 2025-10-05, 科目: 國文, 成績: 90\n",
            "\n",
            "請輸入科目（或輸入 'q' 停止）：英文\n",
            "請輸入 英文 的成績：95\n",
            "已記錄：日期: 2025-10-05, 科目: 英文, 成績: 95\n",
            "\n",
            "請輸入科目（或輸入 'q' 停止）：數學\n",
            "請輸入 數學 的成績：70\n",
            "已記錄：日期: 2025-10-05, 科目: 數學, 成績: 70\n",
            "\n",
            "請輸入科目（或輸入 'q' 停止）：q\n"
          ]
        }
      ]
    },
    {
      "cell_type": "code",
      "source": [
        "new_grades"
      ],
      "metadata": {
        "colab": {
          "base_uri": "https://localhost:8080/"
        },
        "id": "xHjBRfNFnfB9",
        "outputId": "4779b4e0-c2fb-4ec8-b323-64fbccb23cf1"
      },
      "execution_count": 76,
      "outputs": [
        {
          "output_type": "execute_result",
          "data": {
            "text/plain": [
              "[['2025-10-05', '國文', 90], ['2025-10-05', '英文', 95], ['2025-10-05', '數學', 70]]"
            ]
          },
          "metadata": {},
          "execution_count": 76
        }
      ]
    },
    {
      "cell_type": "code",
      "source": [
        "# 主程式執行邏輯\n",
        "def main():\n",
        "    \"\"\"\n",
        "    主程式流程：輸入成績 -> 獲取 AI 摘要 -> 寫入 Google Sheet。\n",
        "    \"\"\"\n",
        "    try:\n",
        "        # 1. Google Sheet 身份驗證\n",
        "        auth.authenticate_user()\n",
        "\n",
        "        creds, _ = default()\n",
        "        gc = gspread.authorize(creds)\n",
        "\n",
        "        sh = gc.open_by_url(SHEET_URL)\n",
        "        ws = sh.worksheet(WORKSHEET_NAME)\n",
        "\n",
        "\n",
        "\n",
        "\n",
        "\n",
        "        print(\"--- Google Sheet 連線成功。---\")\n",
        "\n",
        "        # 2. 獲取使用者輸入的成績\n",
        "        new_grades = get_user_grades()\n",
        "\n",
        "        if not new_grades:\n",
        "            print(\"沒有輸入任何成績，程式結束。\")\n",
        "            return\n",
        "\n",
        "        # 3. 將新成績寫入 Google Sheet\n",
        "        ws.append_rows(new_grades)\n",
        "        print(\"\\n--- 成績已成功寫入 Google Sheet。---\")\n",
        "\n",
        "        # 4. 獲取 AI 摘要並寫入 Google Sheet\n",
        "        summary = get_ai_summary(new_grades)\n",
        "\n",
        "        # 尋找第一行空白列\n",
        "        next_row = len(ws.col_values(1)) + 1\n",
        "\n",
        "        # 使用 update_cell() 方法逐一更新儲存格\n",
        "        ws.update_cell(next_row, 1, datetime.now().strftime('%Y-%m-%d'))\n",
        "        ws.update_cell(next_row, 2, 'AI 摘要')\n",
        "\n",
        "        # 為了避免單元格內容過長，將摘要內容分成多行來寫入\n",
        "        summary_lines = summary.split('\\n')\n",
        "        for i, line in enumerate(summary_lines):\n",
        "            ws.update_cell(next_row + i, 3, line)\n",
        "\n",
        "        print(\"\\n--- AI 摘要已成功寫入 Google Sheet。---\")\n",
        "        print(\"以下是 AI 生成的摘要內容：\")\n",
        "        print(\"-\" * 50)\n",
        "        print(summary)\n",
        "        print(\"-\" * 50)\n",
        "\n",
        "    except gspread.exceptions.APIError as e:\n",
        "        print(f\"Google Sheets API 錯誤：{e.response.text}\")\n",
        "        print(\"請確認：\")\n",
        "        print(\"1. 您的服務帳戶金鑰檔案正確且未過期。\")\n",
        "        print(\"2. 您已將服務帳戶的 Email 地址（在 JSON 檔案中）分享給 Google Sheet，並給予編輯權限。\")\n",
        "    except Exception as e:\n",
        "        print(f\"發生未預期的錯誤：{e}\")\n",
        "\n",
        "if __name__ == \"__main__\":\n",
        "    main()\n"
      ],
      "metadata": {
        "colab": {
          "base_uri": "https://localhost:8080/"
        },
        "id": "FJL4S0kQufa4",
        "outputId": "572d09c3-0a0e-467a-c5a4-5a5c6eb13c2c"
      },
      "execution_count": 79,
      "outputs": [
        {
          "output_type": "stream",
          "name": "stdout",
          "text": [
            "--- Google Sheet 連線成功。---\n",
            "--- 準備輸入成績。輸入 'q' 來停止。---\n",
            "請輸入科目（或輸入 'q' 停止）：國文\n",
            "請輸入 國文 的成績：90\n",
            "已記錄：日期: 2025-10-05, 科目: 國文, 成績: 90\n",
            "\n",
            "請輸入科目（或輸入 'q' 停止）：英文\n",
            "請輸入 英文 的成績：95\n",
            "已記錄：日期: 2025-10-05, 科目: 英文, 成績: 95\n",
            "\n",
            "請輸入科目（或輸入 'q' 停止）：數學\n",
            "請輸入 數學 的成績：70\n",
            "已記錄：日期: 2025-10-05, 科目: 數學, 成績: 70\n",
            "\n",
            "請輸入科目（或輸入 'q' 停止）：q\n",
            "\n",
            "--- 成績已成功寫入 Google Sheet。---\n",
            "發生未預期的錯誤：name 'get_ai_summary' is not defined\n"
          ]
        }
      ]
    },
    {
      "cell_type": "code",
      "source": [
        "# --- 圖表函數 (已更名為 plot_subject_trend 以匹配 Gradio 配置) ---\n",
        "\n",
        "def plot_subject_trend(df: pd.DataFrame, selected_subject: str, start_date: str, end_date: str):\n",
        "    \"\"\"\n",
        "    繪製單一科目的成績趨勢圖。\n",
        "    \"\"\"\n",
        "    # 檢查數據是否已載入\n",
        "    if df is None or df.empty or '日期' not in df.columns or '成績' not in df.columns:\n",
        "        fig, ax = plt.subplots()\n",
        "        ax.text(0.5, 0.5, '請先載入 Google Sheets 數據', ha='center', va='center', fontsize=12)\n",
        "        ax.axis('off')\n",
        "        return fig\n",
        "\n",
        "    # 1. 過濾科目\n",
        "    subject_df = df[df['科目'] == selected_subject].copy()\n",
        "\n",
        "    # 2. 過濾日期\n",
        "    if start_date and start_date.strip():\n",
        "        try:\n",
        "            subject_df = subject_df[subject_df['日期'] >= pd.to_datetime(start_date)]\n",
        "        except ValueError:\n",
        "             print(f\"警告：起始日期格式錯誤: {start_date}\")\n",
        "\n",
        "    if end_date and end_date.strip():\n",
        "        try:\n",
        "            # 確保結束日期包含整天\n",
        "            subject_df = subject_df[subject_df['日期'] <= pd.to_datetime(end_date) + pd.Timedelta(days=1)]\n",
        "        except ValueError:\n",
        "             print(f\"警告：結束日期格式錯誤: {end_date}\")\n",
        "\n",
        "    if subject_df.empty:\n",
        "        fig, ax = plt.subplots()\n",
        "        ax.text(0.5, 0.5, f'在選定的日期範圍內，科目 \"{selected_subject}\" 沒有數據。', ha='center', va='center', fontsize=12)\n",
        "        ax.axis('off')\n",
        "        return fig\n",
        "\n",
        "    # 3. 繪製圖表\n",
        "    fig, ax = plt.subplots(figsize=(10, 6))\n",
        "\n",
        "    # 計算平均值\n",
        "    mean_grade = subject_df['成績'].mean()\n",
        "\n",
        "    # 主圖：成績點和線\n",
        "    ax.plot(subject_df['日期'], subject_df['成績'], marker='o', linestyle='-', color='#007ACC', linewidth=2, label='每次成績')\n",
        "    ax.scatter(subject_df['日期'], subject_df['成績'], s=100, color='#007ACC', zorder=5)\n",
        "\n",
        "    # 輔助線：平均值\n",
        "    ax.axhline(mean_grade, color='#FF5733', linestyle='--', linewidth=1.5, label=f'平均分 ({mean_grade:.1f})')\n",
        "\n",
        "    # 設定標籤和標題\n",
        "    ax.set_title(f'{selected_subject} 成績趨勢分析', fontsize=16, fontweight='bold')\n",
        "    ax.set_xlabel('日期', fontsize=12)\n",
        "    ax.set_ylabel('成績 (分數)', fontsize=12)\n",
        "\n",
        "    # 格式化 X 軸日期\n",
        "    fig.autofmt_xdate(rotation=45)\n",
        "\n",
        "    # Y 軸範圍固定在 0-100\n",
        "    ax.set_ylim(0, 100)\n",
        "\n",
        "    # 增加網格線\n",
        "    ax.grid(True, linestyle='--', alpha=0.7)\n",
        "\n",
        "    # 顯示圖例\n",
        "    ax.legend(loc='best')\n",
        "\n",
        "    plt.close(fig) # 關閉圖表以防內存洩漏\n",
        "    return fig\n",
        "\n",
        "\n"
      ],
      "metadata": {
        "id": "wOLbXfbhFdJc"
      },
      "execution_count": 80,
      "outputs": []
    },
    {
      "cell_type": "code",
      "source": [
        "# ----------------------------------------------------------------------\n",
        "# 圖表分析\n",
        "# ----------------------------------------------------------------------\n",
        "\n",
        "def plot_subject_performance(df, selected_subject, start_date=None, end_date=None):\n",
        "    \"\"\"\n",
        "    繪製單一科目的成績趨勢圖。\n",
        "    \"\"\"\n",
        "    if df is None or df.empty:\n",
        "        # 返回一個空的 Matplotlib 圖\n",
        "        fig, ax = plt.subplots()\n",
        "        ax.text(0.5, 0.5, '請先解析成績數據', ha='center', va='center')\n",
        "        ax.axis('off')\n",
        "        return fig\n",
        "\n",
        "    # 1. 過濾科目\n",
        "    subject_df = df[df['科目'] == selected_subject].copy()\n",
        "\n",
        "    # 2. 過濾日期 (實現「查詢時間自由選擇」)\n",
        "    if start_date and start_date.strip(): # 檢查是否為空字串或 None\n",
        "        try:\n",
        "            subject_df = subject_df[subject_df['日期'] >= pd.to_datetime(start_date)]\n",
        "        except ValueError:\n",
        "             print(f\"警告：起始日期格式錯誤: {start_date}\")\n",
        "\n",
        "    if end_date and end_date.strip(): # 檢查是否為空字串或 None\n",
        "        try:\n",
        "            # 確保結束日期包含整天\n",
        "            subject_df = subject_df[subject_df['日期'] <= pd.to_datetime(end_date) + pd.Timedelta(days=1)]\n",
        "        except ValueError:\n",
        "             print(f\"警告：結束日期格式錯誤: {end_date}\")\n",
        "\n",
        "\n",
        "    if subject_df.empty:\n",
        "        fig, ax = plt.subplots()\n",
        "        ax.text(0.5, 0.5, f'在選定的日期範圍內，科目 \"{selected_subject}\" 沒有數據。', ha='center', va='center', fontsize=12)\n",
        "        ax.axis('off')\n",
        "        return fig\n",
        "\n",
        "    # 3. 繪製圖表\n",
        "    fig, ax = plt.subplots(figsize=(10, 6))\n",
        "\n",
        "    # 計算平均值和中位數\n",
        "    mean_grade = subject_df['成績'].mean()\n",
        "    median_grade = subject_df['成績'].median()\n",
        "\n",
        "    # 主圖：成績點和線\n",
        "    ax.plot(subject_df['日期'], subject_df['成績'], marker='o', linestyle='-', color='#007ACC', linewidth=2, label='每次成績')\n",
        "    ax.scatter(subject_df['日期'], subject_df['成績'], s=100, color='#007ACC', zorder=5)\n",
        "\n",
        "    # 輔助線：平均值和中位數\n",
        "    ax.axhline(mean_grade, color='#FF5733', linestyle='--', linewidth=1.5, label=f'平均分 ({mean_grade:.1f})')\n",
        "    ax.axhline(median_grade, color='#FFA500', linestyle=':', linewidth=1.5, label=f'中位數 ({median_grade:.1f})')\n",
        "\n",
        "    # 設定標籤和標題\n",
        "    ax.set_title(f'{selected_subject} 成績趨勢分析', fontsize=16, fontweight='bold')\n",
        "    ax.set_xlabel('日期', fontsize=12)\n",
        "    ax.set_ylabel('成績 (分數)', fontsize=12)\n",
        "\n",
        "    # 格式化 X 軸日期\n",
        "    fig.autofmt_xdate(rotation=45)\n",
        "\n",
        "    # Y 軸範圍固定在 0-100\n",
        "    ax.set_ylim(0, 100)\n",
        "\n",
        "    # 增加網格線\n",
        "    ax.grid(True, linestyle='--', alpha=0.7)\n",
        "\n",
        "    # 顯示圖例\n",
        "    ax.legend(loc='best')\n",
        "\n",
        "    plt.close(fig) # 關閉圖表以防內存洩漏\n",
        "    return fig\n",
        "\n",
        "\n"
      ],
      "metadata": {
        "id": "idxP1416h7Nf"
      },
      "execution_count": 81,
      "outputs": []
    },
    {
      "cell_type": "code",
      "source": [
        "# --- 助手函數：從 DataFrame 中獲取唯一的科目列表 ---\n",
        "def get_subjects_from_df(df):\n",
        "    if df.empty or '科目' not in df.columns:\n",
        "        return [\"--- 載入數據後選擇 ---\"]\n",
        "\n",
        "    subjects = df['科目'].dropna().unique().tolist()\n",
        "    return subjects if subjects else [\"--- 載入數據後選擇 ---\"]"
      ],
      "metadata": {
        "id": "ONBLKGaLs5Yc"
      },
      "execution_count": 82,
      "outputs": []
    },
    {
      "cell_type": "code",
      "source": [
        "# --- Gradio 介面配置 ---\n",
        "with gr.Blocks(theme=gr.themes.Soft(), title=\"學業成績分析儀\") as demo:\n",
        "    gr.Markdown(\"# 🎓 學業成績追蹤與 AI 分析儀\")\n",
        "    gr.Markdown(\"---\")\n",
        "\n",
        "    # 數據緩存組件 (不可見)\n",
        "    df_data = gr.State(pd.DataFrame(columns=REQUIRED_COLUMNS))\n",
        "    connection_status = gr.State(\"未連線\") # 新增 State 儲存連接狀態，用於條件檢查\n",
        "\n",
        "    with gr.Tab(\"💾 數據操作與管理\"):\n",
        "        gr.Markdown(\"## 步驟 1: Google Sheets 數據載入\")\n",
        "        connect_btn = gr.Button(\"🔗 嘗試連接 Google Sheets (Colab 環境限定)\", variant=\"secondary\")\n",
        "        connect_status = gr.Textbox(label=\"連線狀態\", value=\"未連線，請點擊按鈕或在 Colab 環境中運行\", interactive=False)\n",
        "        load_btn = gr.Button(\"⬇️ 載入所有成績數據 (用於圖表分析)\", variant=\"primary\")\n",
        "        sheet_data_display = gr.Dataframe(\n",
        "            label=\"已載入的 Google Sheet 數據 (僅供查看)\",\n",
        "            headers=REQUIRED_COLUMNS,\n",
        "            datatype=[\"str\", \"str\", \"str\", \"number\", \"number\", \"str\"],\n",
        "            row_count=5,\n",
        "            col_count=len(REQUIRED_COLUMNS),\n",
        "            interactive=False\n",
        "        )\n",
        "        load_status = gr.Textbox(label=\"載入狀態\", interactive=False)\n",
        "\n",
        "        # 連接按鈕點擊時，只更新狀態文字\n",
        "        connect_btn.click(connect_to_sheets, outputs=[connect_status])\n",
        "\n",
        "        # 點擊載入數據時，更新 Dataframe State 和 Dataframe 顯示\n",
        "        load_btn.click(\n",
        "            load_data_from_sheet,\n",
        "            outputs=[df_data, load_status]\n",
        "        )\n",
        "\n",
        "        # 使用一個小的副作用函數來更新可視的 Dataframe 顯示\n",
        "        def update_display_df(df):\n",
        "            # 確保日期欄位在顯示時是可讀的字串\n",
        "            if '日期' in df.columns and pd.api.types.is_datetime64_any_dtype(df['日期']):\n",
        "                 df['日期'] = df['日期'].dt.strftime('%Y-%m-%d')\n",
        "            return df\n",
        "\n",
        "        df_data.change(update_display_df, inputs=df_data, outputs=sheet_data_display)\n",
        "\n",
        "\n",
        "    with gr.Tab(\"📝 新成績輸入與 AI 分析\"):\n",
        "        gr.Markdown(\"## 步驟 2: 輸入新成績並進行 AI 結構化分析\")\n",
        "        gr.Markdown(\n",
        "            \"請在下方表格輸入新的成績記錄，然後點擊 **[執行 AI 分析]** 按鈕獲取詳細報告。  \"\n",
        "            \"輸入完成並確認無誤後，可點擊 **[寫入 Google Sheet]** 保存數據。\"\n",
        "        )\n",
        "\n",
        "        # 預設值為 6 列\n",
        "        input_df = gr.Dataframe(\n",
        "            label=\"輸入成績表格 (可編輯)\",\n",
        "            headers=REQUIRED_COLUMNS,\n",
        "            datatype=[\"str\", \"str\", \"str\", \"number\", \"number\", \"str\"],\n",
        "            value=[\n",
        "                [datetime.now().strftime('%Y-%m-%d'), \"2024上\", \"國文\", 85, 90, \"期中考，文言文部分失分較多\"],\n",
        "                [datetime.now().strftime('%Y-%m-%d'), \"2024上\", \"數學\", 92, 85, \"計算錯誤導致扣分，概念理解無誤\"],\n",
        "            ],\n",
        "            row_count=5,\n",
        "            col_count=len(REQUIRED_COLUMNS),\n",
        "            interactive=True\n",
        "        )\n",
        "\n",
        "        with gr.Row():\n",
        "            analyze_btn = gr.Button(\"🧠 執行 AI 分析\", variant=\"primary\")\n",
        "            write_btn = gr.Button(\"⬆️ 寫入 Google Sheet\", variant=\"secondary\")\n",
        "            write_status = gr.Textbox(label=\"寫入狀態\", value=\"未寫入\", scale=2, interactive=False)\n",
        "\n",
        "        ai_report = gr.Markdown(label=\"AI 學業表現報告\", value=\"點擊 [執行 AI 分析] 以生成報告。\")\n",
        "\n",
        "        analyze_btn.click(\n",
        "            process_grades_and_analyze,\n",
        "            inputs=input_df,\n",
        "            outputs=ai_report\n",
        "        )\n",
        "\n",
        "        # 寫入功能: 只寫入 Dataframe 的內容\n",
        "        write_btn.click(\n",
        "            append_data_to_sheet,\n",
        "            inputs=input_df,\n",
        "            outputs=[write_status]\n",
        "        )\n",
        "\n",
        "    with gr.Tab(\"📊 趨勢圖表分析\"):\n",
        "        gr.Markdown(\"## 步驟 3: 成績趨勢圖表\")\n",
        "\n",
        "        # 助手函數用於動態更新科目下拉菜單\n",
        "        def update_subject_dropdown(df):\n",
        "            subjects = get_subjects_from_df(df)\n",
        "            return gr.Dropdown(choices=subjects, value=subjects[0] if subjects else None, interactive=True)\n",
        "\n",
        "        with gr.Row():\n",
        "            subject_dropdown = gr.Dropdown(\n",
        "                label=\"選擇科目\",\n",
        "                choices=[\"--- 載入數據後選擇 ---\"],\n",
        "                value=\"--- 載入數據後選擇 ---\",\n",
        "                interactive=False,\n",
        "                scale=1\n",
        "            )\n",
        "            start_date_input = gr.Textbox(label=\"起始日期 (YYYY-MM-DD)\", placeholder=\"留空則不限制\", scale=1)\n",
        "            end_date_input = gr.Textbox(label=\"結束日期 (YYYY-MM-DD)\", placeholder=\"留空則不限制\", scale=1)\n",
        "            plot_btn = gr.Button(\"🔄 繪製/更新圖表\", variant=\"primary\", scale=0)\n",
        "\n",
        "        trend_plot = gr.Plot(label=\"成績趨勢圖\")\n",
        "\n",
        "        # 繪製圖表邏輯\n",
        "        plot_btn.click(\n",
        "            plot_subject_trend,\n",
        "            inputs=[df_data, subject_dropdown, start_date_input, end_date_input],\n",
        "            outputs=trend_plot\n",
        "        )\n",
        "\n",
        "        # 當 df_data (State) 發生變化時，動態更新科目下拉選單\n",
        "        df_data.change(update_subject_dropdown, inputs=df_data, outputs=subject_dropdown)\n",
        "\n",
        "    gr.Markdown(\"---\")\n",
        "    gr.Markdown(\"💡 **備註:** AI 分析需要有效的 Gemini API Key (透過 Colab Secret `MATCHA`)。數據操作功能需要在 Google Colab 環境中執行 `auth.authenticate_user()`。\")\n",
        "\n",
        "# 運行 Gradio 介面\n",
        "if __name__ == \"__main__\":\n",
        "\n",
        "    # 設置 Matplotlib 默認字體，以確保中文顯示正常\n",
        "    try:\n",
        "        # 假設環境中有支援中文的字體\n",
        "        plt.rcParams['font.sans-serif'] = ['Microsoft YaHei', 'SimHei', 'Taipei Sans TC Beta']\n",
        "        plt.rcParams['axes.unicode_minus'] = False # 解決負號亂碼問題\n",
        "    except Exception:\n",
        "        pass # 如果環境中沒有這些字體，則忽略\n",
        "\n",
        "    demo.launch(debug=True)"
      ],
      "metadata": {
        "colab": {
          "base_uri": "https://localhost:8080/",
          "height": 732
        },
        "id": "r2zP45ass1Of",
        "outputId": "51771c3b-1e86-48c5-8891-450918582ec4"
      },
      "execution_count": null,
      "outputs": [
        {
          "output_type": "stream",
          "name": "stdout",
          "text": [
            "It looks like you are running Gradio on a hosted Jupyter notebook, which requires `share=True`. Automatically setting `share=True` (you can turn this off by setting `share=False` in `launch()` explicitly).\n",
            "\n",
            "Colab notebook detected. This cell will run indefinitely so that you can see errors and logs. To turn off, set debug=False in launch().\n",
            "* Running on public URL: https://b4493b3a5f2c9cb8f6.gradio.live\n",
            "\n",
            "This share link expires in 1 week. For free permanent hosting and GPU upgrades, run `gradio deploy` from the terminal in the working directory to deploy to Hugging Face Spaces (https://huggingface.co/spaces)\n"
          ]
        },
        {
          "output_type": "display_data",
          "data": {
            "text/plain": [
              "<IPython.core.display.HTML object>"
            ],
            "text/html": [
              "<div><iframe src=\"https://b4493b3a5f2c9cb8f6.gradio.live\" width=\"100%\" height=\"500\" allow=\"autoplay; camera; microphone; clipboard-read; clipboard-write;\" frameborder=\"0\" allowfullscreen></iframe></div>"
            ]
          },
          "metadata": {}
        },
        {
          "output_type": "stream",
          "name": "stdout",
          "text": [
            "Attempting to connect to Google Sheets...\n",
            "Loading data from sheet...\n",
            "Loading data from sheet...\n",
            "Attempting to connect to Google Sheets...\n",
            "Attempting to connect to Google Sheets...\n"
          ]
        }
      ]
    }
  ]
}